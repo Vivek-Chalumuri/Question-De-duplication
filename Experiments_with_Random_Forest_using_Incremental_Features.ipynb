{
 "cells": [
  {
   "cell_type": "markdown",
   "metadata": {},
   "source": [
    "### imports"
   ]
  },
  {
   "cell_type": "code",
   "execution_count": 1,
   "metadata": {},
   "outputs": [],
   "source": [
    "import pandas as pd\n",
    "import numpy as np\n",
    "import scipy as sp\n",
    "from sklearn import metrics\n",
    "from sklearn.model_selection import train_test_split\n",
    "from sklearn.feature_extraction.text import TfidfVectorizer\n",
    "from sklearn.ensemble import RandomForestClassifier as rfClf\n",
    "from IPython.display import display\n",
    "from pprint import pprint\n",
    "from tqdm import tqdm_notebook\n",
    "from sklearn.preprocessing import normalize\n",
    "\n",
    "def zprint():\n",
    "    print('{}{}'.format('*' * 80, '\\n'))\n"
   ]
  },
  {
   "cell_type": "markdown",
   "metadata": {},
   "source": [
    "### load data"
   ]
  },
  {
   "cell_type": "code",
   "execution_count": 2,
   "metadata": {},
   "outputs": [],
   "source": [
    "data = pd.read_csv('./data-quora-question-pairs/train.csv', dtype={'question1': str, 'question1': str,},)\n"
   ]
  },
  {
   "cell_type": "code",
   "execution_count": 3,
   "metadata": {},
   "outputs": [
    {
     "name": "stdout",
     "output_type": "stream",
     "text": [
      "(404290, 6)\n",
      "404290\n"
     ]
    },
    {
     "data": {
      "text/plain": [
       "[0, 0, 0, 0, 0, 1, 0, 1, 0, 0]"
      ]
     },
     "metadata": {},
     "output_type": "display_data"
    },
    {
     "data": {
      "text/html": [
       "<div>\n",
       "<style scoped>\n",
       "    .dataframe tbody tr th:only-of-type {\n",
       "        vertical-align: middle;\n",
       "    }\n",
       "\n",
       "    .dataframe tbody tr th {\n",
       "        vertical-align: top;\n",
       "    }\n",
       "\n",
       "    .dataframe thead th {\n",
       "        text-align: right;\n",
       "    }\n",
       "</style>\n",
       "<table border=\"1\" class=\"dataframe\">\n",
       "  <thead>\n",
       "    <tr style=\"text-align: right;\">\n",
       "      <th></th>\n",
       "      <th>id</th>\n",
       "      <th>qid1</th>\n",
       "      <th>qid2</th>\n",
       "      <th>question1</th>\n",
       "      <th>question2</th>\n",
       "      <th>is_duplicate</th>\n",
       "    </tr>\n",
       "  </thead>\n",
       "  <tbody>\n",
       "    <tr>\n",
       "      <th>0</th>\n",
       "      <td>0</td>\n",
       "      <td>1</td>\n",
       "      <td>2</td>\n",
       "      <td>What is the step by step guide to invest in sh...</td>\n",
       "      <td>What is the step by step guide to invest in sh...</td>\n",
       "      <td>0</td>\n",
       "    </tr>\n",
       "    <tr>\n",
       "      <th>1</th>\n",
       "      <td>1</td>\n",
       "      <td>3</td>\n",
       "      <td>4</td>\n",
       "      <td>What is the story of Kohinoor (Koh-i-Noor) Dia...</td>\n",
       "      <td>What would happen if the Indian government sto...</td>\n",
       "      <td>0</td>\n",
       "    </tr>\n",
       "    <tr>\n",
       "      <th>2</th>\n",
       "      <td>2</td>\n",
       "      <td>5</td>\n",
       "      <td>6</td>\n",
       "      <td>How can I increase the speed of my internet co...</td>\n",
       "      <td>How can Internet speed be increased by hacking...</td>\n",
       "      <td>0</td>\n",
       "    </tr>\n",
       "    <tr>\n",
       "      <th>3</th>\n",
       "      <td>3</td>\n",
       "      <td>7</td>\n",
       "      <td>8</td>\n",
       "      <td>Why am I mentally very lonely? How can I solve...</td>\n",
       "      <td>Find the remainder when [math]23^{24}[/math] i...</td>\n",
       "      <td>0</td>\n",
       "    </tr>\n",
       "    <tr>\n",
       "      <th>4</th>\n",
       "      <td>4</td>\n",
       "      <td>9</td>\n",
       "      <td>10</td>\n",
       "      <td>Which one dissolve in water quikly sugar, salt...</td>\n",
       "      <td>Which fish would survive in salt water?</td>\n",
       "      <td>0</td>\n",
       "    </tr>\n",
       "  </tbody>\n",
       "</table>\n",
       "</div>"
      ],
      "text/plain": [
       "   id  qid1  qid2                                          question1  \\\n",
       "0   0     1     2  What is the step by step guide to invest in sh...   \n",
       "1   1     3     4  What is the story of Kohinoor (Koh-i-Noor) Dia...   \n",
       "2   2     5     6  How can I increase the speed of my internet co...   \n",
       "3   3     7     8  Why am I mentally very lonely? How can I solve...   \n",
       "4   4     9    10  Which one dissolve in water quikly sugar, salt...   \n",
       "\n",
       "                                           question2  is_duplicate  \n",
       "0  What is the step by step guide to invest in sh...             0  \n",
       "1  What would happen if the Indian government sto...             0  \n",
       "2  How can Internet speed be increased by hacking...             0  \n",
       "3  Find the remainder when [math]23^{24}[/math] i...             0  \n",
       "4            Which fish would survive in salt water?             0  "
      ]
     },
     "metadata": {},
     "output_type": "display_data"
    },
    {
     "name": "stdout",
     "output_type": "stream",
     "text": [
      "********************************************************************************\n",
      "\n",
      "(404290, 2)\n"
     ]
    },
    {
     "data": {
      "text/html": [
       "<div>\n",
       "<style scoped>\n",
       "    .dataframe tbody tr th:only-of-type {\n",
       "        vertical-align: middle;\n",
       "    }\n",
       "\n",
       "    .dataframe tbody tr th {\n",
       "        vertical-align: top;\n",
       "    }\n",
       "\n",
       "    .dataframe thead th {\n",
       "        text-align: right;\n",
       "    }\n",
       "</style>\n",
       "<table border=\"1\" class=\"dataframe\">\n",
       "  <thead>\n",
       "    <tr style=\"text-align: right;\">\n",
       "      <th></th>\n",
       "      <th>question1</th>\n",
       "      <th>question2</th>\n",
       "    </tr>\n",
       "  </thead>\n",
       "  <tbody>\n",
       "    <tr>\n",
       "      <th>0</th>\n",
       "      <td>What is the step by step guide to invest in sh...</td>\n",
       "      <td>What is the step by step guide to invest in sh...</td>\n",
       "    </tr>\n",
       "    <tr>\n",
       "      <th>1</th>\n",
       "      <td>What is the story of Kohinoor (Koh-i-Noor) Dia...</td>\n",
       "      <td>What would happen if the Indian government sto...</td>\n",
       "    </tr>\n",
       "    <tr>\n",
       "      <th>2</th>\n",
       "      <td>How can I increase the speed of my internet co...</td>\n",
       "      <td>How can Internet speed be increased by hacking...</td>\n",
       "    </tr>\n",
       "    <tr>\n",
       "      <th>3</th>\n",
       "      <td>Why am I mentally very lonely? How can I solve...</td>\n",
       "      <td>Find the remainder when [math]23^{24}[/math] i...</td>\n",
       "    </tr>\n",
       "    <tr>\n",
       "      <th>4</th>\n",
       "      <td>Which one dissolve in water quikly sugar, salt...</td>\n",
       "      <td>Which fish would survive in salt water?</td>\n",
       "    </tr>\n",
       "  </tbody>\n",
       "</table>\n",
       "</div>"
      ],
      "text/plain": [
       "                                           question1  \\\n",
       "0  What is the step by step guide to invest in sh...   \n",
       "1  What is the story of Kohinoor (Koh-i-Noor) Dia...   \n",
       "2  How can I increase the speed of my internet co...   \n",
       "3  Why am I mentally very lonely? How can I solve...   \n",
       "4  Which one dissolve in water quikly sugar, salt...   \n",
       "\n",
       "                                           question2  \n",
       "0  What is the step by step guide to invest in sh...  \n",
       "1  What would happen if the Indian government sto...  \n",
       "2  How can Internet speed be increased by hacking...  \n",
       "3  Find the remainder when [math]23^{24}[/math] i...  \n",
       "4            Which fish would survive in salt water?  "
      ]
     },
     "metadata": {},
     "output_type": "display_data"
    }
   ],
   "source": [
    "print(data.shape)\n",
    "\n",
    "y = list(data['is_duplicate'])\n",
    "print(len(y))\n",
    "display(y[:10])\n",
    "\n",
    "display(data.head())\n",
    "zprint()\n",
    "\n",
    "X = data[['question1','question2']]\n",
    "X['question1'].value = X['question1'].astype(str)\n",
    "X['question2'].value = X['question2'].astype(str)\n",
    "print(X.shape)\n",
    "display(X.head())\n"
   ]
  },
  {
   "cell_type": "markdown",
   "metadata": {},
   "source": [
    "### split into train and test"
   ]
  },
  {
   "cell_type": "code",
   "execution_count": 4,
   "metadata": {
    "scrolled": false
   },
   "outputs": [
    {
     "name": "stdout",
     "output_type": "stream",
     "text": [
      "(404290, 3)\n"
     ]
    },
    {
     "data": {
      "text/html": [
       "<div>\n",
       "<style scoped>\n",
       "    .dataframe tbody tr th:only-of-type {\n",
       "        vertical-align: middle;\n",
       "    }\n",
       "\n",
       "    .dataframe tbody tr th {\n",
       "        vertical-align: top;\n",
       "    }\n",
       "\n",
       "    .dataframe thead th {\n",
       "        text-align: right;\n",
       "    }\n",
       "</style>\n",
       "<table border=\"1\" class=\"dataframe\">\n",
       "  <thead>\n",
       "    <tr style=\"text-align: right;\">\n",
       "      <th></th>\n",
       "      <th>question1</th>\n",
       "      <th>question2</th>\n",
       "      <th>questions</th>\n",
       "    </tr>\n",
       "  </thead>\n",
       "  <tbody>\n",
       "    <tr>\n",
       "      <th>0</th>\n",
       "      <td>What is the step by step guide to invest in sh...</td>\n",
       "      <td>What is the step by step guide to invest in sh...</td>\n",
       "      <td>What is the step by step guide to invest in sh...</td>\n",
       "    </tr>\n",
       "    <tr>\n",
       "      <th>1</th>\n",
       "      <td>What is the story of Kohinoor (Koh-i-Noor) Dia...</td>\n",
       "      <td>What would happen if the Indian government sto...</td>\n",
       "      <td>What is the story of Kohinoor (Koh-i-Noor) Dia...</td>\n",
       "    </tr>\n",
       "    <tr>\n",
       "      <th>2</th>\n",
       "      <td>How can I increase the speed of my internet co...</td>\n",
       "      <td>How can Internet speed be increased by hacking...</td>\n",
       "      <td>How can I increase the speed of my internet co...</td>\n",
       "    </tr>\n",
       "    <tr>\n",
       "      <th>3</th>\n",
       "      <td>Why am I mentally very lonely? How can I solve...</td>\n",
       "      <td>Find the remainder when [math]23^{24}[/math] i...</td>\n",
       "      <td>Why am I mentally very lonely? How can I solve...</td>\n",
       "    </tr>\n",
       "    <tr>\n",
       "      <th>4</th>\n",
       "      <td>Which one dissolve in water quikly sugar, salt...</td>\n",
       "      <td>Which fish would survive in salt water?</td>\n",
       "      <td>Which one dissolve in water quikly sugar, salt...</td>\n",
       "    </tr>\n",
       "  </tbody>\n",
       "</table>\n",
       "</div>"
      ],
      "text/plain": [
       "                                           question1  \\\n",
       "0  What is the step by step guide to invest in sh...   \n",
       "1  What is the story of Kohinoor (Koh-i-Noor) Dia...   \n",
       "2  How can I increase the speed of my internet co...   \n",
       "3  Why am I mentally very lonely? How can I solve...   \n",
       "4  Which one dissolve in water quikly sugar, salt...   \n",
       "\n",
       "                                           question2  \\\n",
       "0  What is the step by step guide to invest in sh...   \n",
       "1  What would happen if the Indian government sto...   \n",
       "2  How can Internet speed be increased by hacking...   \n",
       "3  Find the remainder when [math]23^{24}[/math] i...   \n",
       "4            Which fish would survive in salt water?   \n",
       "\n",
       "                                           questions  \n",
       "0  What is the step by step guide to invest in sh...  \n",
       "1  What is the story of Kohinoor (Koh-i-Noor) Dia...  \n",
       "2  How can I increase the speed of my internet co...  \n",
       "3  Why am I mentally very lonely? How can I solve...  \n",
       "4  Which one dissolve in water quikly sugar, salt...  "
      ]
     },
     "metadata": {},
     "output_type": "display_data"
    },
    {
     "name": "stdout",
     "output_type": "stream",
     "text": [
      "404290\n"
     ]
    },
    {
     "data": {
      "text/plain": [
       "'What is the step by step guide to invest in share market in india? What is the step by step guide to invest in share market?'"
      ]
     },
     "metadata": {},
     "output_type": "display_data"
    }
   ],
   "source": [
    "_X = X.copy()\n",
    "_X['questions'] = X['question1'].astype(str) + ' ' + X['question2'].astype(str)\n",
    "_X['questions'].value = _X['questions'].astype(str)\n",
    "\n",
    "print(_X.shape)\n",
    "display(_X.head())\n",
    "\n",
    "__X = list(_X['questions'])\n",
    "print(len(__X))\n",
    "display(__X[0])\n"
   ]
  },
  {
   "cell_type": "code",
   "execution_count": 5,
   "metadata": {
    "scrolled": true
   },
   "outputs": [
    {
     "name": "stderr",
     "output_type": "stream",
     "text": [
      "/anaconda3/lib/python3.6/site-packages/sklearn/model_selection/_split.py:2179: FutureWarning: From version 0.21, test_size will always complement train_size unless both are specified.\n",
      "  FutureWarning)\n"
     ]
    },
    {
     "name": "stdout",
     "output_type": "stream",
     "text": [
      "(283003, 3)\n",
      "283003\n",
      "(121287, 3)\n",
      "121287\n"
     ]
    }
   ],
   "source": [
    "X_train, X_test, y_train, y_test = train_test_split(_X, y, train_size=0.7, shuffle=True, stratify=y)\n",
    "print(X_train.shape)\n",
    "print(len(y_train))\n",
    "print(X_test.shape)\n",
    "print(len(y_test))\n"
   ]
  },
  {
   "cell_type": "markdown",
   "metadata": {},
   "source": [
    "### TF-IDF Random Forest model"
   ]
  },
  {
   "cell_type": "code",
   "execution_count": 6,
   "metadata": {},
   "outputs": [],
   "source": [
    "vectorizer = TfidfVectorizer(lowercase=True,\n",
    "                             stop_words='english', \n",
    "                             norm='l2', \n",
    "                             smooth_idf=True, \n",
    "                             use_idf=True, \n",
    "                             binary=False, \n",
    "                             strip_accents='unicode',\n",
    "                            )\n",
    "Xv_train = vectorizer.fit_transform(X_train['questions'])\n"
   ]
  },
  {
   "cell_type": "code",
   "execution_count": 7,
   "metadata": {
    "scrolled": true
   },
   "outputs": [
    {
     "name": "stdout",
     "output_type": "stream",
     "text": [
      "(283003, 73597)\n",
      "  (0, 71188)\t0.06790018537186837\n",
      "  (0, 59537)\t0.1442832554076246\n",
      "  (0, 46906)\t0.1708460544191791\n",
      "  (0, 20937)\t0.09024120931970257\n",
      "  (0, 66049)\t0.08487759551344401\n",
      "  (0, 51676)\t0.23671499058180598\n",
      "  (0, 26302)\t0.10888736032010338\n",
      "  (0, 35865)\t0.34531488120586484\n",
      "  (0, 15327)\t0.2345873980946561\n",
      "  (0, 33009)\t0.08714162210324544\n",
      "  (0, 59991)\t0.2939266541890618\n",
      "  (0, 31628)\t0.08139937082681085\n",
      "  (0, 12443)\t0.10089428705183909\n",
      "  (0, 68334)\t0.26171779135948436\n",
      "  (0, 71517)\t0.242404245177812\n",
      "  (0, 65333)\t0.06762531483548484\n",
      "  (0, 38156)\t0.31697572709689537\n",
      "  (0, 71238)\t0.16043911661559446\n",
      "  (0, 65509)\t0.18270646638233345\n",
      "  (0, 54135)\t0.2581982814876192\n",
      "  (0, 7422)\t0.16483589917272556\n",
      "  (0, 2927)\t0.3606815737694713\n",
      "  (0, 50346)\t0.24844744916058342\n"
     ]
    }
   ],
   "source": [
    "print(Xv_train.shape)\n",
    "print(Xv_train[0])\n"
   ]
  },
  {
   "cell_type": "markdown",
   "metadata": {},
   "source": [
    "### train"
   ]
  },
  {
   "cell_type": "code",
   "execution_count": 8,
   "metadata": {},
   "outputs": [],
   "source": [
    "clf = rfClf(n_estimators=10,\n",
    "            criterion='entropy', \n",
    "            max_depth=None, \n",
    "            min_samples_split=2, \n",
    "            min_samples_leaf=1, \n",
    "            min_weight_fraction_leaf=0.0,\n",
    "            max_features=50,\n",
    "            max_leaf_nodes=None,\n",
    "            min_impurity_decrease=0.0,\n",
    "            bootstrap=True,\n",
    "            n_jobs=2,\n",
    "            warm_start=False,\n",
    "            class_weight=None,\n",
    "           )\n"
   ]
  },
  {
   "cell_type": "code",
   "execution_count": 9,
   "metadata": {
    "scrolled": true
   },
   "outputs": [
    {
     "name": "stdout",
     "output_type": "stream",
     "text": [
      "(283003, 73597)\n",
      "(283003, 73597)\n",
      "********************************************************************************\n",
      "\n",
      "(283003, 147194)\n",
      "  (0, 15327)\t0.3681122733694606\n",
      "  (0, 20937)\t0.1416056317777191\n",
      "  (0, 26302)\t0.17086499136010472\n",
      "  (0, 33009)\t0.13674178953374416\n",
      "  (0, 35865)\t0.5418647675938045\n",
      "  (0, 46906)\t0.2680899741386375\n",
      "  (0, 51676)\t0.3714508708969054\n",
      "  (0, 59537)\t0.22640788716116936\n",
      "  (0, 59991)\t0.4612268593974383\n",
      "  (0, 66049)\t0.13318910093363262\n",
      "  (0, 71188)\t0.10654831334699752\n",
      "  (0, 76524)\t0.46802891608843694\n",
      "  (0, 81019)\t0.21389495009684792\n",
      "  (0, 86040)\t0.13092280627168754\n",
      "  (0, 105225)\t0.10562574322885368\n",
      "  (0, 111753)\t0.4113151787297126\n",
      "  (0, 123943)\t0.3223912691749686\n",
      "  (0, 127732)\t0.335044179156723\n",
      "  (0, 138930)\t0.08775220334050296\n",
      "  (0, 139106)\t0.23708421955019718\n",
      "  (0, 141931)\t0.3396111781671699\n",
      "  (0, 144835)\t0.2081895813612499\n",
      "  (0, 145114)\t0.3145494651698502\n",
      "  (1, 20006)\t0.19147178714930443\n",
      "  (1, 33009)\t0.09438529531038886\n",
      "  :\t:\n",
      "  (283002, 20006)\t0.33166276402617295\n",
      "  (283002, 24043)\t0.22514458883963914\n",
      "  (283002, 24143)\t0.22885949002250958\n",
      "  (283002, 24802)\t0.30138510112320616\n",
      "  (283002, 26839)\t0.23111448374032942\n",
      "  (283002, 30009)\t0.24060731010380057\n",
      "  (283002, 31628)\t0.15271850781464252\n",
      "  (283002, 33009)\t0.08174595430516372\n",
      "  (283002, 44183)\t0.11979197832229593\n",
      "  (283002, 48707)\t0.2721624065411476\n",
      "  (283002, 67187)\t0.5568004033210894\n",
      "  (283002, 71686)\t0.1885754547140022\n",
      "  (283002, 79410)\t0.1410260838924736\n",
      "  (283002, 80662)\t0.46951343352800334\n",
      "  (283002, 86040)\t0.1417512036829252\n",
      "  (283002, 98399)\t0.45137897976252306\n",
      "  (283002, 103606)\t0.36035318850635806\n",
      "  (283002, 108248)\t0.10218668591123806\n",
      "  (283002, 108428)\t0.17221471312425246\n",
      "  (283002, 112341)\t0.22831503031696543\n",
      "  (283002, 135948)\t0.3141721991446726\n",
      "  (283002, 139646)\t0.11924858860999138\n",
      "  (283002, 140783)\t0.40578854222978167\n",
      "  (283002, 144785)\t0.0953962140771245\n",
      "  (283002, 146260)\t0.16450233216055896\n"
     ]
    }
   ],
   "source": [
    "Xv1_train = vectorizer.transform(X_train['question1'].astype(str))\n",
    "Xv2_train = vectorizer.transform(X_train['question2'].astype(str))\n",
    "Xvc_train = sp.sparse.hstack([Xv1_train,Xv2_train], format='csr')\n",
    "\n",
    "print(Xv1_train.shape)\n",
    "print(Xv2_train.shape)\n",
    "zprint()\n",
    "\n",
    "print(Xvc_train.shape)\n",
    "print(Xvc_train)\n"
   ]
  },
  {
   "cell_type": "code",
   "execution_count": 10,
   "metadata": {
    "scrolled": true
   },
   "outputs": [
    {
     "name": "stdout",
     "output_type": "stream",
     "text": [
      "CPU times: user 5min 49s, sys: 1.44 s, total: 5min 50s\n",
      "Wall time: 12min 52s\n"
     ]
    },
    {
     "data": {
      "text/plain": [
       "RandomForestClassifier(bootstrap=True, class_weight=None, criterion='entropy',\n",
       "            max_depth=None, max_features=50, max_leaf_nodes=None,\n",
       "            min_impurity_decrease=0.0, min_impurity_split=None,\n",
       "            min_samples_leaf=1, min_samples_split=2,\n",
       "            min_weight_fraction_leaf=0.0, n_estimators=10, n_jobs=2,\n",
       "            oob_score=False, random_state=None, verbose=0,\n",
       "            warm_start=False)"
      ]
     },
     "execution_count": 10,
     "metadata": {},
     "output_type": "execute_result"
    }
   ],
   "source": [
    "%%time\n",
    "clf.fit(Xvc_train, y_train)\n"
   ]
  },
  {
   "cell_type": "code",
   "execution_count": 11,
   "metadata": {},
   "outputs": [],
   "source": [
    "y_pred_train = clf.predict(Xvc_train)\n"
   ]
  },
  {
   "cell_type": "code",
   "execution_count": 12,
   "metadata": {
    "scrolled": true
   },
   "outputs": [
    {
     "name": "stdout",
     "output_type": "stream",
     "text": [
      "binary\n",
      "0.9877351123486323\n",
      "0.9977137676517832\n",
      "0.9690000382833736\n",
      "********************************************************************************\n",
      "\n",
      "micro\n",
      "0.9877351123486323\n",
      "0.9877351123486323\n",
      "0.9877351123486323\n",
      "********************************************************************************\n",
      "\n",
      "macro\n",
      "0.9877351123486323\n",
      "0.9899352968355982\n",
      "0.9838502283631142\n",
      "********************************************************************************\n",
      "\n",
      "weighted\n",
      "0.9877351123486323\n",
      "0.9879004099726454\n",
      "0.9877351123486323\n",
      "********************************************************************************\n",
      "\n"
     ]
    }
   ],
   "source": [
    "averages = ['binary','micro','macro','weighted']\n",
    "for average in averages:\n",
    "    accuracy = metrics.accuracy_score(y_train, y_pred_train)\n",
    "    precision = metrics.precision_score(y_train, y_pred_train, average=average)\n",
    "    recall = metrics.recall_score(y_train, y_pred_train, average=average)\n",
    "    print(average)\n",
    "    print(accuracy)\n",
    "    print(precision)\n",
    "    print(recall)\n",
    "    zprint()\n"
   ]
  },
  {
   "cell_type": "code",
   "execution_count": 13,
   "metadata": {
    "scrolled": true
   },
   "outputs": [
    {
     "name": "stdout",
     "output_type": "stream",
     "text": [
      "(121287, 73597)\n",
      "(121287, 73597)\n",
      "********************************************************************************\n",
      "\n",
      "(121287, 147194)\n",
      "  (0, 33009)\t0.10724563278477903\n",
      "  (0, 33244)\t0.2015294382182401\n",
      "  (0, 34651)\t0.08951341190416477\n",
      "  (0, 39218)\t0.42373622112669074\n",
      "  (0, 47107)\t0.35437336474313336\n",
      "  (0, 48164)\t0.3178029868404363\n",
      "  (0, 54801)\t0.3953985999258331\n",
      "  (0, 62656)\t0.4139928371624464\n",
      "  (0, 63564)\t0.4037346471780976\n",
      "  (0, 71188)\t0.08356509978414339\n",
      "  (0, 72683)\t0.18980276713322777\n",
      "  (0, 78185)\t0.28812116983035174\n",
      "  (0, 94534)\t0.10264765995552425\n",
      "  (0, 106606)\t0.09912193842546141\n",
      "  (0, 106841)\t0.18626388830279103\n",
      "  (0, 120215)\t0.10715333277150692\n",
      "  (0, 121761)\t0.29372989160539786\n",
      "  (0, 123943)\t0.2826042499929678\n",
      "  (0, 136253)\t0.38263350635590765\n",
      "  (0, 137161)\t0.37315235873635055\n",
      "  (0, 138735)\t0.40543316282135805\n",
      "  (0, 138918)\t0.1633114537054273\n",
      "  (0, 139132)\t0.22252138169129151\n",
      "  (0, 139828)\t0.36659092188940506\n",
      "  (0, 144785)\t0.07723516995740076\n",
      "  (0, 146260)\t0.1331852181527636\n"
     ]
    }
   ],
   "source": [
    "Xv1_test = vectorizer.transform(X_test['question1'].astype(str))\n",
    "Xv2_test = vectorizer.transform(X_test['question2'].astype(str))\n",
    "Xvc_test = sp.sparse.hstack([Xv1_test,Xv2_test], format='csr')\n",
    "\n",
    "print(Xv1_test.shape)\n",
    "print(Xv2_test.shape)\n",
    "zprint()\n",
    "\n",
    "print(Xvc_test.shape)\n",
    "print(Xvc_test[0])\n"
   ]
  },
  {
   "cell_type": "code",
   "execution_count": 75,
   "metadata": {},
   "outputs": [],
   "source": [
    "y_pred = clf.predict(Xvc_test)\n"
   ]
  },
  {
   "cell_type": "code",
   "execution_count": 86,
   "metadata": {
    "scrolled": true
   },
   "outputs": [
    {
     "name": "stdout",
     "output_type": "stream",
     "text": [
      "binary\n",
      "0.7882955304360731\n",
      "0.7916870266308331\n",
      "0.5789097568056455\n",
      "********************************************************************************\n",
      "\n",
      "micro\n",
      "0.7882955304360731\n",
      "0.7882955304360731\n",
      "0.7882955304360731\n",
      "********************************************************************************\n",
      "\n",
      "macro\n",
      "0.7882955304360731\n",
      "0.7893641755925023\n",
      "0.7448778407074184\n",
      "********************************************************************************\n",
      "\n",
      "weighted\n",
      "0.7882955304360731\n",
      "0.7887565116170128\n",
      "0.7882955304360731\n",
      "********************************************************************************\n",
      "\n"
     ]
    }
   ],
   "source": [
    "averages = ['binary','micro','macro','weighted']\n",
    "for average in averages:\n",
    "    accuracy = metrics.accuracy_score(y_test, y_pred)\n",
    "    precision = metrics.precision_score(y_test, y_pred, average=average)\n",
    "    recall = metrics.recall_score(y_test, y_pred, average=average)\n",
    "    print(average)\n",
    "    print(accuracy)\n",
    "    print(precision)\n",
    "    print(recall)\n",
    "    zprint()\n"
   ]
  },
  {
   "cell_type": "markdown",
   "metadata": {},
   "source": [
    "### bag of words Random Forest model"
   ]
  },
  {
   "cell_type": "code",
   "execution_count": 61,
   "metadata": {},
   "outputs": [],
   "source": [
    "vectorizer_2 = TfidfVectorizer(lowercase=True,\n",
    "                             stop_words='english', \n",
    "                             norm='l2', \n",
    "                             smooth_idf=True, \n",
    "                             use_idf=False, \n",
    "                             binary=False, \n",
    "                             strip_accents='unicode',\n",
    "                            )\n",
    "Xv_train_2 = vectorizer_2.fit_transform(X_train['questions'])\n"
   ]
  },
  {
   "cell_type": "code",
   "execution_count": 77,
   "metadata": {
    "scrolled": true
   },
   "outputs": [
    {
     "name": "stdout",
     "output_type": "stream",
     "text": [
      "  (0, 1074)\t0.1796053020267749\n",
      "  (0, 24390)\t0.1796053020267749\n",
      "  (0, 57749)\t0.1796053020267749\n",
      "  (0, 12128)\t0.1796053020267749\n",
      "  (0, 4509)\t0.1796053020267749\n",
      "  (0, 6998)\t0.1796053020267749\n",
      "  (0, 35539)\t0.1796053020267749\n",
      "  (0, 9867)\t0.3592106040535498\n",
      "  (0, 65266)\t0.3592106040535498\n",
      "  (0, 33103)\t0.3592106040535498\n",
      "  (0, 41484)\t0.1796053020267749\n",
      "  (0, 4512)\t0.1796053020267749\n",
      "  (0, 33803)\t0.1796053020267749\n",
      "  (0, 21053)\t0.1796053020267749\n",
      "  (0, 34745)\t0.3592106040535498\n",
      "  (0, 71159)\t0.3592106040535498\n",
      "  (1, 46311)\t0.2\n",
      "  (1, 47290)\t0.4\n",
      "  (1, 71877)\t0.4\n",
      "  (1, 45281)\t0.4\n",
      "  (1, 65266)\t0.4\n",
      "  (1, 34745)\t0.4\n",
      "  (1, 71159)\t0.4\n",
      "  (2, 45946)\t0.17407765595569785\n",
      "  (2, 47243)\t0.17407765595569785\n",
      "  :\t:\n",
      "  (283001, 63522)\t0.47140452079103173\n",
      "  (283001, 72654)\t0.23570226039551587\n",
      "  (283001, 20999)\t0.23570226039551587\n",
      "  (283001, 12128)\t0.23570226039551587\n",
      "  (283001, 65266)\t0.23570226039551587\n",
      "  (283001, 41484)\t0.23570226039551587\n",
      "  (283001, 34745)\t0.23570226039551587\n",
      "  (283001, 71159)\t0.47140452079103173\n",
      "  (283002, 69577)\t0.22360679774997896\n",
      "  (283002, 69580)\t0.22360679774997896\n",
      "  (283002, 48096)\t0.22360679774997896\n",
      "  (283002, 48104)\t0.22360679774997896\n",
      "  (283002, 68885)\t0.22360679774997896\n",
      "  (283002, 52041)\t0.22360679774997896\n",
      "  (283002, 52116)\t0.22360679774997896\n",
      "  (283002, 24778)\t0.4472135954999579\n",
      "  (283002, 28039)\t0.22360679774997896\n",
      "  (283002, 65973)\t0.22360679774997896\n",
      "  (283002, 47243)\t0.22360679774997896\n",
      "  (283002, 46910)\t0.22360679774997896\n",
      "  (283002, 72654)\t0.22360679774997896\n",
      "  (283002, 20999)\t0.22360679774997896\n",
      "  (283002, 31720)\t0.22360679774997896\n",
      "  (283002, 21053)\t0.22360679774997896\n",
      "  (283002, 71159)\t0.22360679774997896\n"
     ]
    }
   ],
   "source": [
    "print(Xv_train_2)\n"
   ]
  },
  {
   "cell_type": "code",
   "execution_count": 62,
   "metadata": {},
   "outputs": [],
   "source": [
    "clf_2 = rfClf(n_estimators=10,\n",
    "            criterion='entropy', \n",
    "            max_depth=None, \n",
    "            min_samples_split=2, \n",
    "            min_samples_leaf=1, \n",
    "            min_weight_fraction_leaf=0.0,\n",
    "            max_features=50,\n",
    "            max_leaf_nodes=None,\n",
    "            min_impurity_decrease=0.0,\n",
    "            bootstrap=True,\n",
    "            n_jobs=2,\n",
    "            warm_start=False,\n",
    "            class_weight=None,\n",
    "           )\n"
   ]
  },
  {
   "cell_type": "code",
   "execution_count": 63,
   "metadata": {},
   "outputs": [
    {
     "name": "stdout",
     "output_type": "stream",
     "text": [
      "CPU times: user 5min 56s, sys: 2.01 s, total: 5min 58s\n",
      "Wall time: 2min 56s\n"
     ]
    },
    {
     "data": {
      "text/plain": [
       "RandomForestClassifier(bootstrap=True, class_weight=None, criterion='entropy',\n",
       "            max_depth=None, max_features=50, max_leaf_nodes=None,\n",
       "            min_impurity_decrease=0.0, min_impurity_split=None,\n",
       "            min_samples_leaf=1, min_samples_split=2,\n",
       "            min_weight_fraction_leaf=0.0, n_estimators=10, n_jobs=2,\n",
       "            oob_score=False, random_state=None, verbose=0,\n",
       "            warm_start=False)"
      ]
     },
     "execution_count": 63,
     "metadata": {},
     "output_type": "execute_result"
    }
   ],
   "source": [
    "%%time\n",
    "clf_2.fit(Xvc_train, y_train)\n"
   ]
  },
  {
   "cell_type": "code",
   "execution_count": 64,
   "metadata": {},
   "outputs": [],
   "source": [
    "y_pred_train_2 = clf_2.predict(Xvc_train)\n"
   ]
  },
  {
   "cell_type": "code",
   "execution_count": 90,
   "metadata": {
    "scrolled": true
   },
   "outputs": [
    {
     "name": "stdout",
     "output_type": "stream",
     "text": [
      "binary\n",
      "0.9876821093769323\n",
      "0.9978115573431123\n",
      "0.9687607671988056\n",
      "********************************************************************************\n",
      "\n",
      "micro\n",
      "0.9876821093769323\n",
      "0.9876821093769323\n",
      "0.9876821093769323\n",
      "********************************************************************************\n",
      "\n",
      "macro\n",
      "0.9876821093769323\n",
      "0.989917064134844\n",
      "0.9837586010440444\n",
      "********************************************************************************\n",
      "\n",
      "weighted\n",
      "0.9876821093769323\n",
      "0.9878518252339343\n",
      "0.9876821093769323\n",
      "********************************************************************************\n",
      "\n"
     ]
    }
   ],
   "source": [
    "averages = ['binary','micro','macro','weighted']\n",
    "for average in averages:\n",
    "    accuracy = metrics.accuracy_score(y_train, y_pred_train_2)\n",
    "    precision = metrics.precision_score(y_train, y_pred_train_2, average=average)\n",
    "    recall = metrics.recall_score(y_train, y_pred_train_2, average=average)\n",
    "    print(average)\n",
    "    print(accuracy)\n",
    "    print(precision)\n",
    "    print(recall)\n",
    "    zprint()\n"
   ]
  },
  {
   "cell_type": "code",
   "execution_count": 67,
   "metadata": {},
   "outputs": [],
   "source": [
    "y_pred_2 = clf_2.predict(Xvc_test)\n"
   ]
  },
  {
   "cell_type": "code",
   "execution_count": 87,
   "metadata": {
    "scrolled": true
   },
   "outputs": [
    {
     "name": "stdout",
     "output_type": "stream",
     "text": [
      "binary\n",
      "0.7893261437746832\n",
      "0.7958455146945684\n",
      "0.5775251792134706\n",
      "********************************************************************************\n",
      "\n",
      "micro\n",
      "0.7893261437746832\n",
      "0.7893261437746832\n",
      "0.7893261437746832\n",
      "********************************************************************************\n",
      "\n",
      "macro\n",
      "0.7893261437746832\n",
      "0.7913928897916486\n",
      "0.7454076463328293\n",
      "********************************************************************************\n",
      "\n",
      "weighted\n",
      "0.7893261437746832\n",
      "0.7902280713400028\n",
      "0.7893261437746832\n",
      "********************************************************************************\n",
      "\n"
     ]
    }
   ],
   "source": [
    "averages = ['binary','micro','macro','weighted']\n",
    "for average in averages:\n",
    "    accuracy = metrics.accuracy_score(y_test, y_pred_2)\n",
    "    precision = metrics.precision_score(y_test, y_pred_2, average=average)\n",
    "    recall = metrics.recall_score(y_test, y_pred_2, average=average)\n",
    "    print(average)\n",
    "    print(accuracy)\n",
    "    print(precision)\n",
    "    print(recall)\n",
    "    zprint()\n"
   ]
  },
  {
   "cell_type": "markdown",
   "metadata": {},
   "source": [
    "### load data with new String features"
   ]
  },
  {
   "cell_type": "code",
   "execution_count": 119,
   "metadata": {},
   "outputs": [],
   "source": [
    "data_fe = pd.read_csv('./data-quora-question-pairs/quora_train.csv')\n"
   ]
  },
  {
   "cell_type": "code",
   "execution_count": 122,
   "metadata": {
    "scrolled": false
   },
   "outputs": [
    {
     "name": "stdout",
     "output_type": "stream",
     "text": [
      "(404290, 6)\n"
     ]
    },
    {
     "data": {
      "text/html": [
       "<div>\n",
       "<style scoped>\n",
       "    .dataframe tbody tr th:only-of-type {\n",
       "        vertical-align: middle;\n",
       "    }\n",
       "\n",
       "    .dataframe tbody tr th {\n",
       "        vertical-align: top;\n",
       "    }\n",
       "\n",
       "    .dataframe thead th {\n",
       "        text-align: right;\n",
       "    }\n",
       "</style>\n",
       "<table border=\"1\" class=\"dataframe\">\n",
       "  <thead>\n",
       "    <tr style=\"text-align: right;\">\n",
       "      <th></th>\n",
       "      <th>question1</th>\n",
       "      <th>question2</th>\n",
       "      <th>is_duplicate</th>\n",
       "      <th>tokenSortRatio</th>\n",
       "      <th>tokenSetRatio</th>\n",
       "      <th>wratio</th>\n",
       "    </tr>\n",
       "  </thead>\n",
       "  <tbody>\n",
       "    <tr>\n",
       "      <th>0</th>\n",
       "      <td>What is the step by step guide to invest in sh...</td>\n",
       "      <td>What is the step by step guide to invest in sh...</td>\n",
       "      <td>0</td>\n",
       "      <td>93</td>\n",
       "      <td>100</td>\n",
       "      <td>95</td>\n",
       "    </tr>\n",
       "    <tr>\n",
       "      <th>1</th>\n",
       "      <td>What is the story of Kohinoor (Koh-i-Noor) Dia...</td>\n",
       "      <td>What would happen if the Indian government sto...</td>\n",
       "      <td>0</td>\n",
       "      <td>63</td>\n",
       "      <td>86</td>\n",
       "      <td>86</td>\n",
       "    </tr>\n",
       "    <tr>\n",
       "      <th>2</th>\n",
       "      <td>How can I increase the speed of my internet co...</td>\n",
       "      <td>How can Internet speed be increased by hacking...</td>\n",
       "      <td>0</td>\n",
       "      <td>63</td>\n",
       "      <td>63</td>\n",
       "      <td>60</td>\n",
       "    </tr>\n",
       "    <tr>\n",
       "      <th>3</th>\n",
       "      <td>Why am I mentally very lonely? How can I solve...</td>\n",
       "      <td>Find the remainder when [math]23^{24}[/math] i...</td>\n",
       "      <td>0</td>\n",
       "      <td>24</td>\n",
       "      <td>28</td>\n",
       "      <td>27</td>\n",
       "    </tr>\n",
       "    <tr>\n",
       "      <th>4</th>\n",
       "      <td>Which one dissolve in water quikly sugar, salt...</td>\n",
       "      <td>Which fish would survive in salt water?</td>\n",
       "      <td>0</td>\n",
       "      <td>47</td>\n",
       "      <td>67</td>\n",
       "      <td>86</td>\n",
       "    </tr>\n",
       "  </tbody>\n",
       "</table>\n",
       "</div>"
      ],
      "text/plain": [
       "                                           question1  \\\n",
       "0  What is the step by step guide to invest in sh...   \n",
       "1  What is the story of Kohinoor (Koh-i-Noor) Dia...   \n",
       "2  How can I increase the speed of my internet co...   \n",
       "3  Why am I mentally very lonely? How can I solve...   \n",
       "4  Which one dissolve in water quikly sugar, salt...   \n",
       "\n",
       "                                           question2  is_duplicate  \\\n",
       "0  What is the step by step guide to invest in sh...             0   \n",
       "1  What would happen if the Indian government sto...             0   \n",
       "2  How can Internet speed be increased by hacking...             0   \n",
       "3  Find the remainder when [math]23^{24}[/math] i...             0   \n",
       "4            Which fish would survive in salt water?             0   \n",
       "\n",
       "   tokenSortRatio  tokenSetRatio  wratio  \n",
       "0              93            100      95  \n",
       "1              63             86      86  \n",
       "2              63             63      60  \n",
       "3              24             28      27  \n",
       "4              47             67      86  "
      ]
     },
     "metadata": {},
     "output_type": "display_data"
    }
   ],
   "source": [
    "display(data_fe.head())\n"
   ]
  },
  {
   "cell_type": "code",
   "execution_count": 129,
   "metadata": {
    "scrolled": true
   },
   "outputs": [
    {
     "name": "stdout",
     "output_type": "stream",
     "text": [
      "(404290, 6)\n",
      "404290\n"
     ]
    },
    {
     "data": {
      "text/plain": [
       "[0, 0, 0, 0, 0, 1, 0, 1, 0, 0]"
      ]
     },
     "metadata": {},
     "output_type": "display_data"
    },
    {
     "data": {
      "text/html": [
       "<div>\n",
       "<style scoped>\n",
       "    .dataframe tbody tr th:only-of-type {\n",
       "        vertical-align: middle;\n",
       "    }\n",
       "\n",
       "    .dataframe tbody tr th {\n",
       "        vertical-align: top;\n",
       "    }\n",
       "\n",
       "    .dataframe thead th {\n",
       "        text-align: right;\n",
       "    }\n",
       "</style>\n",
       "<table border=\"1\" class=\"dataframe\">\n",
       "  <thead>\n",
       "    <tr style=\"text-align: right;\">\n",
       "      <th></th>\n",
       "      <th>question1</th>\n",
       "      <th>question2</th>\n",
       "      <th>is_duplicate</th>\n",
       "      <th>tokenSortRatio</th>\n",
       "      <th>tokenSetRatio</th>\n",
       "      <th>wratio</th>\n",
       "    </tr>\n",
       "  </thead>\n",
       "  <tbody>\n",
       "    <tr>\n",
       "      <th>0</th>\n",
       "      <td>What is the step by step guide to invest in sh...</td>\n",
       "      <td>What is the step by step guide to invest in sh...</td>\n",
       "      <td>0</td>\n",
       "      <td>93</td>\n",
       "      <td>100</td>\n",
       "      <td>95</td>\n",
       "    </tr>\n",
       "    <tr>\n",
       "      <th>1</th>\n",
       "      <td>What is the story of Kohinoor (Koh-i-Noor) Dia...</td>\n",
       "      <td>What would happen if the Indian government sto...</td>\n",
       "      <td>0</td>\n",
       "      <td>63</td>\n",
       "      <td>86</td>\n",
       "      <td>86</td>\n",
       "    </tr>\n",
       "    <tr>\n",
       "      <th>2</th>\n",
       "      <td>How can I increase the speed of my internet co...</td>\n",
       "      <td>How can Internet speed be increased by hacking...</td>\n",
       "      <td>0</td>\n",
       "      <td>63</td>\n",
       "      <td>63</td>\n",
       "      <td>60</td>\n",
       "    </tr>\n",
       "    <tr>\n",
       "      <th>3</th>\n",
       "      <td>Why am I mentally very lonely? How can I solve...</td>\n",
       "      <td>Find the remainder when [math]23^{24}[/math] i...</td>\n",
       "      <td>0</td>\n",
       "      <td>24</td>\n",
       "      <td>28</td>\n",
       "      <td>27</td>\n",
       "    </tr>\n",
       "    <tr>\n",
       "      <th>4</th>\n",
       "      <td>Which one dissolve in water quikly sugar, salt...</td>\n",
       "      <td>Which fish would survive in salt water?</td>\n",
       "      <td>0</td>\n",
       "      <td>47</td>\n",
       "      <td>67</td>\n",
       "      <td>86</td>\n",
       "    </tr>\n",
       "  </tbody>\n",
       "</table>\n",
       "</div>"
      ],
      "text/plain": [
       "                                           question1  \\\n",
       "0  What is the step by step guide to invest in sh...   \n",
       "1  What is the story of Kohinoor (Koh-i-Noor) Dia...   \n",
       "2  How can I increase the speed of my internet co...   \n",
       "3  Why am I mentally very lonely? How can I solve...   \n",
       "4  Which one dissolve in water quikly sugar, salt...   \n",
       "\n",
       "                                           question2  is_duplicate  \\\n",
       "0  What is the step by step guide to invest in sh...             0   \n",
       "1  What would happen if the Indian government sto...             0   \n",
       "2  How can Internet speed be increased by hacking...             0   \n",
       "3  Find the remainder when [math]23^{24}[/math] i...             0   \n",
       "4            Which fish would survive in salt water?             0   \n",
       "\n",
       "   tokenSortRatio  tokenSetRatio  wratio  \n",
       "0              93            100      95  \n",
       "1              63             86      86  \n",
       "2              63             63      60  \n",
       "3              24             28      27  \n",
       "4              47             67      86  "
      ]
     },
     "metadata": {},
     "output_type": "display_data"
    },
    {
     "name": "stdout",
     "output_type": "stream",
     "text": [
      "********************************************************************************\n",
      "\n",
      "(404290, 5)\n"
     ]
    },
    {
     "data": {
      "text/html": [
       "<div>\n",
       "<style scoped>\n",
       "    .dataframe tbody tr th:only-of-type {\n",
       "        vertical-align: middle;\n",
       "    }\n",
       "\n",
       "    .dataframe tbody tr th {\n",
       "        vertical-align: top;\n",
       "    }\n",
       "\n",
       "    .dataframe thead th {\n",
       "        text-align: right;\n",
       "    }\n",
       "</style>\n",
       "<table border=\"1\" class=\"dataframe\">\n",
       "  <thead>\n",
       "    <tr style=\"text-align: right;\">\n",
       "      <th></th>\n",
       "      <th>question1</th>\n",
       "      <th>question2</th>\n",
       "      <th>tokenSortRatio</th>\n",
       "      <th>tokenSetRatio</th>\n",
       "      <th>wratio</th>\n",
       "    </tr>\n",
       "  </thead>\n",
       "  <tbody>\n",
       "    <tr>\n",
       "      <th>0</th>\n",
       "      <td>What is the step by step guide to invest in sh...</td>\n",
       "      <td>What is the step by step guide to invest in sh...</td>\n",
       "      <td>93</td>\n",
       "      <td>100</td>\n",
       "      <td>95</td>\n",
       "    </tr>\n",
       "    <tr>\n",
       "      <th>1</th>\n",
       "      <td>What is the story of Kohinoor (Koh-i-Noor) Dia...</td>\n",
       "      <td>What would happen if the Indian government sto...</td>\n",
       "      <td>63</td>\n",
       "      <td>86</td>\n",
       "      <td>86</td>\n",
       "    </tr>\n",
       "    <tr>\n",
       "      <th>2</th>\n",
       "      <td>How can I increase the speed of my internet co...</td>\n",
       "      <td>How can Internet speed be increased by hacking...</td>\n",
       "      <td>63</td>\n",
       "      <td>63</td>\n",
       "      <td>60</td>\n",
       "    </tr>\n",
       "    <tr>\n",
       "      <th>3</th>\n",
       "      <td>Why am I mentally very lonely? How can I solve...</td>\n",
       "      <td>Find the remainder when [math]23^{24}[/math] i...</td>\n",
       "      <td>24</td>\n",
       "      <td>28</td>\n",
       "      <td>27</td>\n",
       "    </tr>\n",
       "    <tr>\n",
       "      <th>4</th>\n",
       "      <td>Which one dissolve in water quikly sugar, salt...</td>\n",
       "      <td>Which fish would survive in salt water?</td>\n",
       "      <td>47</td>\n",
       "      <td>67</td>\n",
       "      <td>86</td>\n",
       "    </tr>\n",
       "  </tbody>\n",
       "</table>\n",
       "</div>"
      ],
      "text/plain": [
       "                                           question1  \\\n",
       "0  What is the step by step guide to invest in sh...   \n",
       "1  What is the story of Kohinoor (Koh-i-Noor) Dia...   \n",
       "2  How can I increase the speed of my internet co...   \n",
       "3  Why am I mentally very lonely? How can I solve...   \n",
       "4  Which one dissolve in water quikly sugar, salt...   \n",
       "\n",
       "                                           question2  tokenSortRatio  \\\n",
       "0  What is the step by step guide to invest in sh...              93   \n",
       "1  What would happen if the Indian government sto...              63   \n",
       "2  How can Internet speed be increased by hacking...              63   \n",
       "3  Find the remainder when [math]23^{24}[/math] i...              24   \n",
       "4            Which fish would survive in salt water?              47   \n",
       "\n",
       "   tokenSetRatio  wratio  \n",
       "0            100      95  \n",
       "1             86      86  \n",
       "2             63      60  \n",
       "3             28      27  \n",
       "4             67      86  "
      ]
     },
     "metadata": {},
     "output_type": "display_data"
    }
   ],
   "source": [
    "print(data_fe.shape)\n",
    "\n",
    "y = list(data_fe['is_duplicate'])\n",
    "print(len(y))\n",
    "display(y[:10])\n",
    "\n",
    "display(data_fe.head())\n",
    "zprint()\n",
    "\n",
    "X = data_fe[['question1','question2','tokenSortRatio','tokenSetRatio','wratio']]\n",
    "X['question1'].value = X['question1'].astype(str)\n",
    "X['question2'].value = X['question2'].astype(str)\n",
    "print(X.shape)\n",
    "display(X.head())\n"
   ]
  },
  {
   "cell_type": "markdown",
   "metadata": {},
   "source": [
    "### split into train and test"
   ]
  },
  {
   "cell_type": "code",
   "execution_count": 130,
   "metadata": {
    "scrolled": false
   },
   "outputs": [
    {
     "name": "stdout",
     "output_type": "stream",
     "text": [
      "(404290, 6)\n"
     ]
    },
    {
     "data": {
      "text/html": [
       "<div>\n",
       "<style scoped>\n",
       "    .dataframe tbody tr th:only-of-type {\n",
       "        vertical-align: middle;\n",
       "    }\n",
       "\n",
       "    .dataframe tbody tr th {\n",
       "        vertical-align: top;\n",
       "    }\n",
       "\n",
       "    .dataframe thead th {\n",
       "        text-align: right;\n",
       "    }\n",
       "</style>\n",
       "<table border=\"1\" class=\"dataframe\">\n",
       "  <thead>\n",
       "    <tr style=\"text-align: right;\">\n",
       "      <th></th>\n",
       "      <th>question1</th>\n",
       "      <th>question2</th>\n",
       "      <th>tokenSortRatio</th>\n",
       "      <th>tokenSetRatio</th>\n",
       "      <th>wratio</th>\n",
       "      <th>questions</th>\n",
       "    </tr>\n",
       "  </thead>\n",
       "  <tbody>\n",
       "    <tr>\n",
       "      <th>0</th>\n",
       "      <td>What is the step by step guide to invest in sh...</td>\n",
       "      <td>What is the step by step guide to invest in sh...</td>\n",
       "      <td>93</td>\n",
       "      <td>100</td>\n",
       "      <td>95</td>\n",
       "      <td>What is the step by step guide to invest in sh...</td>\n",
       "    </tr>\n",
       "    <tr>\n",
       "      <th>1</th>\n",
       "      <td>What is the story of Kohinoor (Koh-i-Noor) Dia...</td>\n",
       "      <td>What would happen if the Indian government sto...</td>\n",
       "      <td>63</td>\n",
       "      <td>86</td>\n",
       "      <td>86</td>\n",
       "      <td>What is the story of Kohinoor (Koh-i-Noor) Dia...</td>\n",
       "    </tr>\n",
       "    <tr>\n",
       "      <th>2</th>\n",
       "      <td>How can I increase the speed of my internet co...</td>\n",
       "      <td>How can Internet speed be increased by hacking...</td>\n",
       "      <td>63</td>\n",
       "      <td>63</td>\n",
       "      <td>60</td>\n",
       "      <td>How can I increase the speed of my internet co...</td>\n",
       "    </tr>\n",
       "    <tr>\n",
       "      <th>3</th>\n",
       "      <td>Why am I mentally very lonely? How can I solve...</td>\n",
       "      <td>Find the remainder when [math]23^{24}[/math] i...</td>\n",
       "      <td>24</td>\n",
       "      <td>28</td>\n",
       "      <td>27</td>\n",
       "      <td>Why am I mentally very lonely? How can I solve...</td>\n",
       "    </tr>\n",
       "    <tr>\n",
       "      <th>4</th>\n",
       "      <td>Which one dissolve in water quikly sugar, salt...</td>\n",
       "      <td>Which fish would survive in salt water?</td>\n",
       "      <td>47</td>\n",
       "      <td>67</td>\n",
       "      <td>86</td>\n",
       "      <td>Which one dissolve in water quikly sugar, salt...</td>\n",
       "    </tr>\n",
       "  </tbody>\n",
       "</table>\n",
       "</div>"
      ],
      "text/plain": [
       "                                           question1  \\\n",
       "0  What is the step by step guide to invest in sh...   \n",
       "1  What is the story of Kohinoor (Koh-i-Noor) Dia...   \n",
       "2  How can I increase the speed of my internet co...   \n",
       "3  Why am I mentally very lonely? How can I solve...   \n",
       "4  Which one dissolve in water quikly sugar, salt...   \n",
       "\n",
       "                                           question2  tokenSortRatio  \\\n",
       "0  What is the step by step guide to invest in sh...              93   \n",
       "1  What would happen if the Indian government sto...              63   \n",
       "2  How can Internet speed be increased by hacking...              63   \n",
       "3  Find the remainder when [math]23^{24}[/math] i...              24   \n",
       "4            Which fish would survive in salt water?              47   \n",
       "\n",
       "   tokenSetRatio  wratio                                          questions  \n",
       "0            100      95  What is the step by step guide to invest in sh...  \n",
       "1             86      86  What is the story of Kohinoor (Koh-i-Noor) Dia...  \n",
       "2             63      60  How can I increase the speed of my internet co...  \n",
       "3             28      27  Why am I mentally very lonely? How can I solve...  \n",
       "4             67      86  Which one dissolve in water quikly sugar, salt...  "
      ]
     },
     "metadata": {},
     "output_type": "display_data"
    },
    {
     "name": "stdout",
     "output_type": "stream",
     "text": [
      "404290\n"
     ]
    },
    {
     "data": {
      "text/plain": [
       "'What is the step by step guide to invest in share market in india? What is the step by step guide to invest in share market?'"
      ]
     },
     "metadata": {},
     "output_type": "display_data"
    }
   ],
   "source": [
    "_X = X.copy()\n",
    "_X['questions'] = X['question1'].astype(str) + ' ' + X['question2'].astype(str)\n",
    "_X['questions'].value = _X['questions'].astype(str)\n",
    "\n",
    "print(_X.shape)\n",
    "display(_X.head())\n",
    "\n",
    "__X = list(_X['questions'])\n",
    "print(len(__X))\n",
    "display(__X[0])\n"
   ]
  },
  {
   "cell_type": "code",
   "execution_count": 131,
   "metadata": {
    "scrolled": true
   },
   "outputs": [
    {
     "name": "stderr",
     "output_type": "stream",
     "text": [
      "/anaconda3/lib/python3.6/site-packages/sklearn/model_selection/_split.py:2179: FutureWarning: From version 0.21, test_size will always complement train_size unless both are specified.\n",
      "  FutureWarning)\n"
     ]
    },
    {
     "name": "stdout",
     "output_type": "stream",
     "text": [
      "(283003, 6)\n",
      "283003\n",
      "(121287, 6)\n",
      "121287\n"
     ]
    }
   ],
   "source": [
    "X_train, X_test, y_train, y_test = train_test_split(_X, y, train_size=0.7, shuffle=True, stratify=y)\n",
    "print(X_train.shape)\n",
    "print(len(y_train))\n",
    "print(X_test.shape)\n",
    "print(len(y_test))\n"
   ]
  },
  {
   "cell_type": "markdown",
   "metadata": {},
   "source": [
    "### TF-IDF with new String features (Random Forest model)"
   ]
  },
  {
   "cell_type": "code",
   "execution_count": 132,
   "metadata": {},
   "outputs": [],
   "source": [
    "vectorizer = TfidfVectorizer(lowercase=True,\n",
    "                             stop_words='english', \n",
    "                             norm='l2', \n",
    "                             smooth_idf=True, \n",
    "                             use_idf=True, \n",
    "                             binary=False, \n",
    "                             strip_accents='unicode',\n",
    "                            )\n",
    "Xv_train = vectorizer.fit_transform(X_train['questions'])\n"
   ]
  },
  {
   "cell_type": "code",
   "execution_count": 133,
   "metadata": {
    "scrolled": false
   },
   "outputs": [
    {
     "name": "stdout",
     "output_type": "stream",
     "text": [
      "(283003, 73895)\n",
      "  (0, 71477)\t0.12228275781328729\n",
      "  (0, 34866)\t0.1309927264196222\n",
      "  (0, 72990)\t0.27768385227919223\n",
      "  (0, 56094)\t0.48171920798792267\n",
      "  (0, 46892)\t0.1695506138923916\n",
      "  (0, 60959)\t0.693790411045817\n",
      "  (0, 1178)\t0.38553024586301476\n"
     ]
    }
   ],
   "source": [
    "print(Xv_train.shape)\n",
    "print(Xv_train[0])\n"
   ]
  },
  {
   "cell_type": "markdown",
   "metadata": {},
   "source": [
    "### train"
   ]
  },
  {
   "cell_type": "code",
   "execution_count": 134,
   "metadata": {},
   "outputs": [],
   "source": [
    "clf = rfClf(n_estimators=10,\n",
    "            criterion='entropy', \n",
    "            max_depth=None, \n",
    "            min_samples_split=2, \n",
    "            min_samples_leaf=1, \n",
    "            min_weight_fraction_leaf=0.0,\n",
    "            max_features=50,\n",
    "            max_leaf_nodes=None,\n",
    "            min_impurity_decrease=0.0,\n",
    "            bootstrap=True,\n",
    "            n_jobs=2,\n",
    "            warm_start=False,\n",
    "            class_weight=None,\n",
    "           )\n"
   ]
  },
  {
   "cell_type": "code",
   "execution_count": 137,
   "metadata": {
    "scrolled": true
   },
   "outputs": [
    {
     "name": "stdout",
     "output_type": "stream",
     "text": [
      "(283003, 73895)\n",
      "(283003, 73895)\n",
      "********************************************************************************\n",
      "\n",
      "(283003, 147793)\n",
      "  (0, 1178)\t0.38553024586301476\n",
      "  (0, 34866)\t0.1309927264196222\n",
      "  (0, 46892)\t0.1695506138923916\n",
      "  (0, 56094)\t0.48171920798792267\n",
      "  (0, 60959)\t0.693790411045817\n",
      "  (0, 71477)\t0.12228275781328729\n",
      "  (0, 72990)\t0.27768385227919223\n",
      "  (0, 75073)\t0.38553024586301476\n",
      "  (0, 108761)\t0.1309927264196222\n",
      "  (0, 120787)\t0.1695506138923916\n",
      "  (0, 129989)\t0.48171920798792267\n",
      "  (0, 134854)\t0.693790411045817\n",
      "  (0, 145372)\t0.12228275781328729\n",
      "  (0, 146885)\t0.27768385227919223\n",
      "  (0, 147790)\t100.0\n",
      "  (0, 147791)\t100.0\n",
      "  (0, 147792)\t100.0\n",
      "  (1, 15451)\t0.3751367114091314\n",
      "  (1, 15816)\t0.4380453846301769\n",
      "  (1, 31830)\t0.1307011256258669\n",
      "  (1, 33222)\t0.13986327736870136\n",
      "  (1, 33461)\t0.263157114037892\n",
      "  (1, 34866)\t0.11663455677295982\n",
      "  (1, 36089)\t0.5524741634078637\n",
      "  (1, 60272)\t0.47340537958991125\n",
      "  :\t:\n",
      "  (283002, 62516)\t0.25920479561330045\n",
      "  (283002, 62820)\t0.6323732569569827\n",
      "  (283002, 62914)\t0.25159677322365803\n",
      "  (283002, 65602)\t0.10559449726207938\n",
      "  (283002, 69506)\t0.21493906759381873\n",
      "  (283002, 71477)\t0.05301917611333559\n",
      "  (283002, 72833)\t0.3798380285763687\n",
      "  (283002, 78546)\t0.16290269603362806\n",
      "  (283002, 91962)\t0.3201368851054151\n",
      "  (283002, 95055)\t0.11456309806775765\n",
      "  (283002, 98960)\t0.3231767378140952\n",
      "  (283002, 104979)\t0.2623950446424537\n",
      "  (283002, 116521)\t0.3401133218166273\n",
      "  (283002, 120787)\t0.0825160586302254\n",
      "  (283002, 124864)\t0.24058760660652415\n",
      "  (283002, 136411)\t0.2909473402755515\n",
      "  (283002, 136715)\t0.3549072399252731\n",
      "  (283002, 136809)\t0.2824076299133806\n",
      "  (283002, 137282)\t0.27834409101462104\n",
      "  (283002, 139497)\t0.05926286597715934\n",
      "  (283002, 145564)\t0.10323025757317554\n",
      "  (283002, 146784)\t0.34954266125762645\n",
      "  (283002, 147790)\t66.0\n",
      "  (283002, 147791)\t79.0\n",
      "  (283002, 147792)\t75.0\n"
     ]
    }
   ],
   "source": [
    "Xv1_train = vectorizer.transform(X_train['question1'].astype(str))\n",
    "Xv2_train = vectorizer.transform(X_train['question2'].astype(str))\n",
    "Xvc_train = sp.sparse.hstack([Xv1_train, Xv2_train,\n",
    "                              X_train[['tokenSortRatio','tokenSetRatio','wratio']]], format='csr')\n",
    "\n",
    "print(Xv1_train.shape)\n",
    "print(Xv2_train.shape)\n",
    "zprint()\n",
    "\n",
    "print(Xvc_train.shape)\n",
    "print(Xvc_train)\n"
   ]
  },
  {
   "cell_type": "code",
   "execution_count": 138,
   "metadata": {
    "scrolled": true
   },
   "outputs": [
    {
     "name": "stdout",
     "output_type": "stream",
     "text": [
      "CPU times: user 6min 17s, sys: 3.01 s, total: 6min 20s\n",
      "Wall time: 3min 10s\n"
     ]
    },
    {
     "data": {
      "text/plain": [
       "RandomForestClassifier(bootstrap=True, class_weight=None, criterion='entropy',\n",
       "            max_depth=None, max_features=50, max_leaf_nodes=None,\n",
       "            min_impurity_decrease=0.0, min_impurity_split=None,\n",
       "            min_samples_leaf=1, min_samples_split=2,\n",
       "            min_weight_fraction_leaf=0.0, n_estimators=10, n_jobs=2,\n",
       "            oob_score=False, random_state=None, verbose=0,\n",
       "            warm_start=False)"
      ]
     },
     "execution_count": 138,
     "metadata": {},
     "output_type": "execute_result"
    }
   ],
   "source": [
    "%%time\n",
    "clf.fit(Xvc_train, y_train)\n"
   ]
  },
  {
   "cell_type": "code",
   "execution_count": 139,
   "metadata": {},
   "outputs": [],
   "source": [
    "y_pred_train = clf.predict(Xvc_train)\n"
   ]
  },
  {
   "cell_type": "code",
   "execution_count": 140,
   "metadata": {
    "scrolled": true
   },
   "outputs": [
    {
     "name": "stdout",
     "output_type": "stream",
     "text": [
      "binary\n",
      "0.9904099956537563\n",
      "0.9980327291234389\n",
      "0.9759484705792274\n",
      "********************************************************************************\n",
      "\n",
      "micro\n",
      "0.9904099956537563\n",
      "0.9904099956537563\n",
      "0.9904099956537563\n",
      "********************************************************************************\n",
      "\n",
      "macro\n",
      "0.9904099956537563\n",
      "0.9920678878071807\n",
      "0.9874112700030055\n",
      "********************************************************************************\n",
      "\n",
      "weighted\n",
      "0.9904099956537563\n",
      "0.9905074554907417\n",
      "0.9904099956537563\n",
      "********************************************************************************\n",
      "\n"
     ]
    }
   ],
   "source": [
    "averages = ['binary','micro','macro','weighted']\n",
    "for average in averages:\n",
    "    accuracy = metrics.accuracy_score(y_train, y_pred_train)\n",
    "    precision = metrics.precision_score(y_train, y_pred_train, average=average)\n",
    "    recall = metrics.recall_score(y_train, y_pred_train, average=average)\n",
    "    print(average)\n",
    "    print(accuracy)\n",
    "    print(precision)\n",
    "    print(recall)\n",
    "    zprint()\n"
   ]
  },
  {
   "cell_type": "markdown",
   "metadata": {},
   "source": [
    "### test"
   ]
  },
  {
   "cell_type": "code",
   "execution_count": 141,
   "metadata": {
    "scrolled": true
   },
   "outputs": [
    {
     "name": "stdout",
     "output_type": "stream",
     "text": [
      "(121287, 73895)\n",
      "(121287, 73895)\n",
      "********************************************************************************\n",
      "\n",
      "(121287, 147793)\n",
      "  (0, 5882)\t0.16331710976931804\n",
      "  (0, 23416)\t0.3586512363050986\n",
      "  (0, 31830)\t0.13253843137988555\n",
      "  (0, 33181)\t0.3719646103154373\n",
      "  (0, 44460)\t0.2082636627005847\n",
      "  (0, 59813)\t0.23545979270896208\n",
      "  (0, 60514)\t0.42097043850225313\n",
      "  (0, 61644)\t0.4708095100629896\n",
      "  (0, 72351)\t0.43712690742062915\n",
      "  (0, 80734)\t0.13899489446160734\n",
      "  (0, 97311)\t0.3206229692481986\n",
      "  (0, 106474)\t0.40121085384931315\n",
      "  (0, 107076)\t0.3325247085252811\n",
      "  (0, 118355)\t0.18618118986424778\n",
      "  (0, 121376)\t0.20108435426936647\n",
      "  (0, 134409)\t0.37633438364475474\n",
      "  (0, 137342)\t0.4603474223296863\n",
      "  (0, 140198)\t0.12346376350565796\n",
      "  (0, 145372)\t0.09870293902030969\n",
      "  (0, 146246)\t0.3907777606996976\n",
      "  (0, 147790)\t69.0\n",
      "  (0, 147791)\t72.0\n",
      "  (0, 147792)\t68.0\n",
      "  (1, 3838)\t0.3836206530747434\n",
      "  (1, 5775)\t0.18330590985867326\n",
      "  :\t:\n",
      "  (121285, 105725)\t0.1490670365180056\n",
      "  (121285, 125826)\t0.43115857496813836\n",
      "  (121285, 147790)\t57.0\n",
      "  (121285, 147791)\t78.0\n",
      "  (121285, 147792)\t86.0\n",
      "  (121286, 9253)\t0.3719947864805649\n",
      "  (121286, 12559)\t0.18350324767200096\n",
      "  (121286, 21281)\t0.4128033917913366\n",
      "  (121286, 46892)\t0.17115494840068124\n",
      "  (121286, 52007)\t0.43157466606143163\n",
      "  (121286, 54493)\t0.3836502713069137\n",
      "  (121286, 67388)\t0.38690655036990085\n",
      "  (121286, 69150)\t0.3809263426301656\n",
      "  (121286, 83148)\t0.38346788069748483\n",
      "  (121286, 87641)\t0.534225651357243\n",
      "  (121286, 108761)\t0.13631053261670256\n",
      "  (121286, 125902)\t0.4448853278914121\n",
      "  (121286, 139485)\t0.26849725405909997\n",
      "  (121286, 139497)\t0.12671434249791022\n",
      "  (121286, 141283)\t0.39883955445185265\n",
      "  (121286, 145372)\t0.12724697243091793\n",
      "  (121286, 145679)\t0.2960400976385956\n",
      "  (121286, 147790)\t62.0\n",
      "  (121286, 147791)\t68.0\n",
      "  (121286, 147792)\t65.0\n"
     ]
    }
   ],
   "source": [
    "Xv1_test = vectorizer.transform(X_test['question1'].astype(str))\n",
    "Xv2_test = vectorizer.transform(X_test['question2'].astype(str))\n",
    "Xvc_test = sp.sparse.hstack([Xv1_test, Xv2_test,\n",
    "                             X_test[['tokenSortRatio','tokenSetRatio','wratio']]], format='csr')\n",
    "\n",
    "print(Xv1_test.shape)\n",
    "print(Xv2_test.shape)\n",
    "zprint()\n",
    "\n",
    "print(Xvc_test.shape)\n",
    "print(Xvc_test)\n"
   ]
  },
  {
   "cell_type": "code",
   "execution_count": 142,
   "metadata": {},
   "outputs": [],
   "source": [
    "y_pred = clf.predict(Xvc_test)\n"
   ]
  },
  {
   "cell_type": "code",
   "execution_count": 143,
   "metadata": {
    "scrolled": true
   },
   "outputs": [
    {
     "name": "stdout",
     "output_type": "stream",
     "text": [
      "binary\n",
      "0.8001599511901523\n",
      "0.8041218797192857\n",
      "0.6064449853726077\n",
      "********************************************************************************\n",
      "\n",
      "micro\n",
      "0.8001599511901523\n",
      "0.8001599511901523\n",
      "0.8001599511901523\n",
      "********************************************************************************\n",
      "\n",
      "macro\n",
      "0.8001599511901523\n",
      "0.8013764935869613\n",
      "0.7599917194338335\n",
      "********************************************************************************\n",
      "\n",
      "weighted\n",
      "0.8001599511901523\n",
      "0.800658293313292\n",
      "0.8001599511901523\n",
      "********************************************************************************\n",
      "\n"
     ]
    }
   ],
   "source": [
    "averages = ['binary','micro','macro','weighted']\n",
    "for average in averages:\n",
    "    accuracy = metrics.accuracy_score(y_test, y_pred)\n",
    "    precision = metrics.precision_score(y_test, y_pred, average=average)\n",
    "    recall = metrics.recall_score(y_test, y_pred, average=average)\n",
    "    print(average)\n",
    "    print(accuracy)\n",
    "    print(precision)\n",
    "    print(recall)\n",
    "    zprint()\n"
   ]
  },
  {
   "cell_type": "markdown",
   "metadata": {},
   "source": [
    "### load data with new String features and normalize"
   ]
  },
  {
   "cell_type": "code",
   "execution_count": 176,
   "metadata": {},
   "outputs": [
    {
     "name": "stdout",
     "output_type": "stream",
     "text": [
      "(404290, 6)\n"
     ]
    },
    {
     "data": {
      "text/html": [
       "<div>\n",
       "<style scoped>\n",
       "    .dataframe tbody tr th:only-of-type {\n",
       "        vertical-align: middle;\n",
       "    }\n",
       "\n",
       "    .dataframe tbody tr th {\n",
       "        vertical-align: top;\n",
       "    }\n",
       "\n",
       "    .dataframe thead th {\n",
       "        text-align: right;\n",
       "    }\n",
       "</style>\n",
       "<table border=\"1\" class=\"dataframe\">\n",
       "  <thead>\n",
       "    <tr style=\"text-align: right;\">\n",
       "      <th></th>\n",
       "      <th>question1</th>\n",
       "      <th>question2</th>\n",
       "      <th>is_duplicate</th>\n",
       "      <th>tokenSortRatio</th>\n",
       "      <th>tokenSetRatio</th>\n",
       "      <th>wratio</th>\n",
       "    </tr>\n",
       "  </thead>\n",
       "  <tbody>\n",
       "    <tr>\n",
       "      <th>0</th>\n",
       "      <td>What is the step by step guide to invest in sh...</td>\n",
       "      <td>What is the step by step guide to invest in sh...</td>\n",
       "      <td>0</td>\n",
       "      <td>93</td>\n",
       "      <td>100</td>\n",
       "      <td>95</td>\n",
       "    </tr>\n",
       "    <tr>\n",
       "      <th>1</th>\n",
       "      <td>What is the story of Kohinoor (Koh-i-Noor) Dia...</td>\n",
       "      <td>What would happen if the Indian government sto...</td>\n",
       "      <td>0</td>\n",
       "      <td>63</td>\n",
       "      <td>86</td>\n",
       "      <td>86</td>\n",
       "    </tr>\n",
       "    <tr>\n",
       "      <th>2</th>\n",
       "      <td>How can I increase the speed of my internet co...</td>\n",
       "      <td>How can Internet speed be increased by hacking...</td>\n",
       "      <td>0</td>\n",
       "      <td>63</td>\n",
       "      <td>63</td>\n",
       "      <td>60</td>\n",
       "    </tr>\n",
       "    <tr>\n",
       "      <th>3</th>\n",
       "      <td>Why am I mentally very lonely? How can I solve...</td>\n",
       "      <td>Find the remainder when [math]23^{24}[/math] i...</td>\n",
       "      <td>0</td>\n",
       "      <td>24</td>\n",
       "      <td>28</td>\n",
       "      <td>27</td>\n",
       "    </tr>\n",
       "    <tr>\n",
       "      <th>4</th>\n",
       "      <td>Which one dissolve in water quikly sugar, salt...</td>\n",
       "      <td>Which fish would survive in salt water?</td>\n",
       "      <td>0</td>\n",
       "      <td>47</td>\n",
       "      <td>67</td>\n",
       "      <td>86</td>\n",
       "    </tr>\n",
       "  </tbody>\n",
       "</table>\n",
       "</div>"
      ],
      "text/plain": [
       "                                           question1  \\\n",
       "0  What is the step by step guide to invest in sh...   \n",
       "1  What is the story of Kohinoor (Koh-i-Noor) Dia...   \n",
       "2  How can I increase the speed of my internet co...   \n",
       "3  Why am I mentally very lonely? How can I solve...   \n",
       "4  Which one dissolve in water quikly sugar, salt...   \n",
       "\n",
       "                                           question2  is_duplicate  \\\n",
       "0  What is the step by step guide to invest in sh...             0   \n",
       "1  What would happen if the Indian government sto...             0   \n",
       "2  How can Internet speed be increased by hacking...             0   \n",
       "3  Find the remainder when [math]23^{24}[/math] i...             0   \n",
       "4            Which fish would survive in salt water?             0   \n",
       "\n",
       "   tokenSortRatio  tokenSetRatio  wratio  \n",
       "0              93            100      95  \n",
       "1              63             86      86  \n",
       "2              63             63      60  \n",
       "3              24             28      27  \n",
       "4              47             67      86  "
      ]
     },
     "metadata": {},
     "output_type": "display_data"
    }
   ],
   "source": [
    "data_fe = pd.read_csv('./data-quora-question-pairs/quora_train.csv')\n",
    "\n",
    "print(data_fe.shape)\n",
    "display(data_fe.head())\n"
   ]
  },
  {
   "cell_type": "code",
   "execution_count": 177,
   "metadata": {
    "scrolled": true
   },
   "outputs": [
    {
     "name": "stdout",
     "output_type": "stream",
     "text": [
      "404290\n"
     ]
    },
    {
     "data": {
      "text/plain": [
       "[0, 0, 0, 0, 0, 1, 0, 1, 0, 0]"
      ]
     },
     "metadata": {},
     "output_type": "display_data"
    },
    {
     "name": "stdout",
     "output_type": "stream",
     "text": [
      "********************************************************************************\n",
      "\n",
      "(404290, 5)\n"
     ]
    },
    {
     "data": {
      "text/html": [
       "<div>\n",
       "<style scoped>\n",
       "    .dataframe tbody tr th:only-of-type {\n",
       "        vertical-align: middle;\n",
       "    }\n",
       "\n",
       "    .dataframe tbody tr th {\n",
       "        vertical-align: top;\n",
       "    }\n",
       "\n",
       "    .dataframe thead th {\n",
       "        text-align: right;\n",
       "    }\n",
       "</style>\n",
       "<table border=\"1\" class=\"dataframe\">\n",
       "  <thead>\n",
       "    <tr style=\"text-align: right;\">\n",
       "      <th></th>\n",
       "      <th>question1</th>\n",
       "      <th>question2</th>\n",
       "      <th>tokenSortRatio</th>\n",
       "      <th>tokenSetRatio</th>\n",
       "      <th>wratio</th>\n",
       "    </tr>\n",
       "  </thead>\n",
       "  <tbody>\n",
       "    <tr>\n",
       "      <th>0</th>\n",
       "      <td>What is the step by step guide to invest in sh...</td>\n",
       "      <td>What is the step by step guide to invest in sh...</td>\n",
       "      <td>93</td>\n",
       "      <td>100</td>\n",
       "      <td>95</td>\n",
       "    </tr>\n",
       "    <tr>\n",
       "      <th>1</th>\n",
       "      <td>What is the story of Kohinoor (Koh-i-Noor) Dia...</td>\n",
       "      <td>What would happen if the Indian government sto...</td>\n",
       "      <td>63</td>\n",
       "      <td>86</td>\n",
       "      <td>86</td>\n",
       "    </tr>\n",
       "    <tr>\n",
       "      <th>2</th>\n",
       "      <td>How can I increase the speed of my internet co...</td>\n",
       "      <td>How can Internet speed be increased by hacking...</td>\n",
       "      <td>63</td>\n",
       "      <td>63</td>\n",
       "      <td>60</td>\n",
       "    </tr>\n",
       "    <tr>\n",
       "      <th>3</th>\n",
       "      <td>Why am I mentally very lonely? How can I solve...</td>\n",
       "      <td>Find the remainder when [math]23^{24}[/math] i...</td>\n",
       "      <td>24</td>\n",
       "      <td>28</td>\n",
       "      <td>27</td>\n",
       "    </tr>\n",
       "    <tr>\n",
       "      <th>4</th>\n",
       "      <td>Which one dissolve in water quikly sugar, salt...</td>\n",
       "      <td>Which fish would survive in salt water?</td>\n",
       "      <td>47</td>\n",
       "      <td>67</td>\n",
       "      <td>86</td>\n",
       "    </tr>\n",
       "  </tbody>\n",
       "</table>\n",
       "</div>"
      ],
      "text/plain": [
       "                                           question1  \\\n",
       "0  What is the step by step guide to invest in sh...   \n",
       "1  What is the story of Kohinoor (Koh-i-Noor) Dia...   \n",
       "2  How can I increase the speed of my internet co...   \n",
       "3  Why am I mentally very lonely? How can I solve...   \n",
       "4  Which one dissolve in water quikly sugar, salt...   \n",
       "\n",
       "                                           question2  tokenSortRatio  \\\n",
       "0  What is the step by step guide to invest in sh...              93   \n",
       "1  What would happen if the Indian government sto...              63   \n",
       "2  How can Internet speed be increased by hacking...              63   \n",
       "3  Find the remainder when [math]23^{24}[/math] i...              24   \n",
       "4            Which fish would survive in salt water?              47   \n",
       "\n",
       "   tokenSetRatio  wratio  \n",
       "0            100      95  \n",
       "1             86      86  \n",
       "2             63      60  \n",
       "3             28      27  \n",
       "4             67      86  "
      ]
     },
     "metadata": {},
     "output_type": "display_data"
    },
    {
     "name": "stdout",
     "output_type": "stream",
     "text": [
      "(404290, 8)\n"
     ]
    },
    {
     "data": {
      "text/html": [
       "<div>\n",
       "<style scoped>\n",
       "    .dataframe tbody tr th:only-of-type {\n",
       "        vertical-align: middle;\n",
       "    }\n",
       "\n",
       "    .dataframe tbody tr th {\n",
       "        vertical-align: top;\n",
       "    }\n",
       "\n",
       "    .dataframe thead th {\n",
       "        text-align: right;\n",
       "    }\n",
       "</style>\n",
       "<table border=\"1\" class=\"dataframe\">\n",
       "  <thead>\n",
       "    <tr style=\"text-align: right;\">\n",
       "      <th></th>\n",
       "      <th>question1</th>\n",
       "      <th>question2</th>\n",
       "      <th>tokenSortRatio</th>\n",
       "      <th>tokenSetRatio</th>\n",
       "      <th>wratio</th>\n",
       "      <th>tokenSortRatio_norm</th>\n",
       "      <th>tokenSetRatio_norm</th>\n",
       "      <th>wratio_norm</th>\n",
       "    </tr>\n",
       "  </thead>\n",
       "  <tbody>\n",
       "    <tr>\n",
       "      <th>0</th>\n",
       "      <td>What is the step by step guide to invest in sh...</td>\n",
       "      <td>What is the step by step guide to invest in sh...</td>\n",
       "      <td>93</td>\n",
       "      <td>100</td>\n",
       "      <td>95</td>\n",
       "      <td>0.93</td>\n",
       "      <td>1.00</td>\n",
       "      <td>0.95</td>\n",
       "    </tr>\n",
       "    <tr>\n",
       "      <th>1</th>\n",
       "      <td>What is the story of Kohinoor (Koh-i-Noor) Dia...</td>\n",
       "      <td>What would happen if the Indian government sto...</td>\n",
       "      <td>63</td>\n",
       "      <td>86</td>\n",
       "      <td>86</td>\n",
       "      <td>0.63</td>\n",
       "      <td>0.86</td>\n",
       "      <td>0.86</td>\n",
       "    </tr>\n",
       "    <tr>\n",
       "      <th>2</th>\n",
       "      <td>How can I increase the speed of my internet co...</td>\n",
       "      <td>How can Internet speed be increased by hacking...</td>\n",
       "      <td>63</td>\n",
       "      <td>63</td>\n",
       "      <td>60</td>\n",
       "      <td>0.63</td>\n",
       "      <td>0.63</td>\n",
       "      <td>0.60</td>\n",
       "    </tr>\n",
       "    <tr>\n",
       "      <th>3</th>\n",
       "      <td>Why am I mentally very lonely? How can I solve...</td>\n",
       "      <td>Find the remainder when [math]23^{24}[/math] i...</td>\n",
       "      <td>24</td>\n",
       "      <td>28</td>\n",
       "      <td>27</td>\n",
       "      <td>0.24</td>\n",
       "      <td>0.28</td>\n",
       "      <td>0.27</td>\n",
       "    </tr>\n",
       "    <tr>\n",
       "      <th>4</th>\n",
       "      <td>Which one dissolve in water quikly sugar, salt...</td>\n",
       "      <td>Which fish would survive in salt water?</td>\n",
       "      <td>47</td>\n",
       "      <td>67</td>\n",
       "      <td>86</td>\n",
       "      <td>0.47</td>\n",
       "      <td>0.67</td>\n",
       "      <td>0.86</td>\n",
       "    </tr>\n",
       "  </tbody>\n",
       "</table>\n",
       "</div>"
      ],
      "text/plain": [
       "                                           question1  \\\n",
       "0  What is the step by step guide to invest in sh...   \n",
       "1  What is the story of Kohinoor (Koh-i-Noor) Dia...   \n",
       "2  How can I increase the speed of my internet co...   \n",
       "3  Why am I mentally very lonely? How can I solve...   \n",
       "4  Which one dissolve in water quikly sugar, salt...   \n",
       "\n",
       "                                           question2  tokenSortRatio  \\\n",
       "0  What is the step by step guide to invest in sh...              93   \n",
       "1  What would happen if the Indian government sto...              63   \n",
       "2  How can Internet speed be increased by hacking...              63   \n",
       "3  Find the remainder when [math]23^{24}[/math] i...              24   \n",
       "4            Which fish would survive in salt water?              47   \n",
       "\n",
       "   tokenSetRatio  wratio  tokenSortRatio_norm  tokenSetRatio_norm  wratio_norm  \n",
       "0            100      95                 0.93                1.00         0.95  \n",
       "1             86      86                 0.63                0.86         0.86  \n",
       "2             63      60                 0.63                0.63         0.60  \n",
       "3             28      27                 0.24                0.28         0.27  \n",
       "4             67      86                 0.47                0.67         0.86  "
      ]
     },
     "metadata": {},
     "output_type": "display_data"
    }
   ],
   "source": [
    "y = list(data_fe['is_duplicate'])\n",
    "print(len(y))\n",
    "display(y[:10])\n",
    "zprint()\n",
    "\n",
    "X = data_fe[['question1','question2',\n",
    "             'tokenSortRatio','tokenSetRatio','wratio']]\n",
    "X['question1'].value = X['question1'].astype(str)\n",
    "X['question2'].value = X['question2'].astype(str)\n",
    "print(X.shape)\n",
    "display(X.head())\n",
    "\n",
    "for col in ['tokenSortRatio','tokenSetRatio','wratio']:\n",
    "    X[col+'_norm'] = X[col] / X[col].max()\n",
    "print(X.shape)\n",
    "display(X.head())\n"
   ]
  },
  {
   "cell_type": "markdown",
   "metadata": {},
   "source": [
    "### split into train and test"
   ]
  },
  {
   "cell_type": "code",
   "execution_count": 153,
   "metadata": {
    "scrolled": true
   },
   "outputs": [
    {
     "name": "stdout",
     "output_type": "stream",
     "text": [
      "(404290, 9)\n"
     ]
    },
    {
     "data": {
      "text/html": [
       "<div>\n",
       "<style scoped>\n",
       "    .dataframe tbody tr th:only-of-type {\n",
       "        vertical-align: middle;\n",
       "    }\n",
       "\n",
       "    .dataframe tbody tr th {\n",
       "        vertical-align: top;\n",
       "    }\n",
       "\n",
       "    .dataframe thead th {\n",
       "        text-align: right;\n",
       "    }\n",
       "</style>\n",
       "<table border=\"1\" class=\"dataframe\">\n",
       "  <thead>\n",
       "    <tr style=\"text-align: right;\">\n",
       "      <th></th>\n",
       "      <th>question1</th>\n",
       "      <th>question2</th>\n",
       "      <th>tokenSortRatio</th>\n",
       "      <th>tokenSetRatio</th>\n",
       "      <th>wratio</th>\n",
       "      <th>tokenSortRatio_norm</th>\n",
       "      <th>tokenSetRatio_norm</th>\n",
       "      <th>wratio_norm</th>\n",
       "      <th>questions</th>\n",
       "    </tr>\n",
       "  </thead>\n",
       "  <tbody>\n",
       "    <tr>\n",
       "      <th>0</th>\n",
       "      <td>What is the step by step guide to invest in sh...</td>\n",
       "      <td>What is the step by step guide to invest in sh...</td>\n",
       "      <td>93</td>\n",
       "      <td>100</td>\n",
       "      <td>95</td>\n",
       "      <td>0.93</td>\n",
       "      <td>1.00</td>\n",
       "      <td>0.95</td>\n",
       "      <td>What is the step by step guide to invest in sh...</td>\n",
       "    </tr>\n",
       "    <tr>\n",
       "      <th>1</th>\n",
       "      <td>What is the story of Kohinoor (Koh-i-Noor) Dia...</td>\n",
       "      <td>What would happen if the Indian government sto...</td>\n",
       "      <td>63</td>\n",
       "      <td>86</td>\n",
       "      <td>86</td>\n",
       "      <td>0.63</td>\n",
       "      <td>0.86</td>\n",
       "      <td>0.86</td>\n",
       "      <td>What is the story of Kohinoor (Koh-i-Noor) Dia...</td>\n",
       "    </tr>\n",
       "    <tr>\n",
       "      <th>2</th>\n",
       "      <td>How can I increase the speed of my internet co...</td>\n",
       "      <td>How can Internet speed be increased by hacking...</td>\n",
       "      <td>63</td>\n",
       "      <td>63</td>\n",
       "      <td>60</td>\n",
       "      <td>0.63</td>\n",
       "      <td>0.63</td>\n",
       "      <td>0.60</td>\n",
       "      <td>How can I increase the speed of my internet co...</td>\n",
       "    </tr>\n",
       "    <tr>\n",
       "      <th>3</th>\n",
       "      <td>Why am I mentally very lonely? How can I solve...</td>\n",
       "      <td>Find the remainder when [math]23^{24}[/math] i...</td>\n",
       "      <td>24</td>\n",
       "      <td>28</td>\n",
       "      <td>27</td>\n",
       "      <td>0.24</td>\n",
       "      <td>0.28</td>\n",
       "      <td>0.27</td>\n",
       "      <td>Why am I mentally very lonely? How can I solve...</td>\n",
       "    </tr>\n",
       "    <tr>\n",
       "      <th>4</th>\n",
       "      <td>Which one dissolve in water quikly sugar, salt...</td>\n",
       "      <td>Which fish would survive in salt water?</td>\n",
       "      <td>47</td>\n",
       "      <td>67</td>\n",
       "      <td>86</td>\n",
       "      <td>0.47</td>\n",
       "      <td>0.67</td>\n",
       "      <td>0.86</td>\n",
       "      <td>Which one dissolve in water quikly sugar, salt...</td>\n",
       "    </tr>\n",
       "  </tbody>\n",
       "</table>\n",
       "</div>"
      ],
      "text/plain": [
       "                                           question1  \\\n",
       "0  What is the step by step guide to invest in sh...   \n",
       "1  What is the story of Kohinoor (Koh-i-Noor) Dia...   \n",
       "2  How can I increase the speed of my internet co...   \n",
       "3  Why am I mentally very lonely? How can I solve...   \n",
       "4  Which one dissolve in water quikly sugar, salt...   \n",
       "\n",
       "                                           question2  tokenSortRatio  \\\n",
       "0  What is the step by step guide to invest in sh...              93   \n",
       "1  What would happen if the Indian government sto...              63   \n",
       "2  How can Internet speed be increased by hacking...              63   \n",
       "3  Find the remainder when [math]23^{24}[/math] i...              24   \n",
       "4            Which fish would survive in salt water?              47   \n",
       "\n",
       "   tokenSetRatio  wratio  tokenSortRatio_norm  tokenSetRatio_norm  \\\n",
       "0            100      95                 0.93                1.00   \n",
       "1             86      86                 0.63                0.86   \n",
       "2             63      60                 0.63                0.63   \n",
       "3             28      27                 0.24                0.28   \n",
       "4             67      86                 0.47                0.67   \n",
       "\n",
       "   wratio_norm                                          questions  \n",
       "0         0.95  What is the step by step guide to invest in sh...  \n",
       "1         0.86  What is the story of Kohinoor (Koh-i-Noor) Dia...  \n",
       "2         0.60  How can I increase the speed of my internet co...  \n",
       "3         0.27  Why am I mentally very lonely? How can I solve...  \n",
       "4         0.86  Which one dissolve in water quikly sugar, salt...  "
      ]
     },
     "metadata": {},
     "output_type": "display_data"
    },
    {
     "name": "stdout",
     "output_type": "stream",
     "text": [
      "404290\n"
     ]
    },
    {
     "data": {
      "text/plain": [
       "'What is the step by step guide to invest in share market in india? What is the step by step guide to invest in share market?'"
      ]
     },
     "metadata": {},
     "output_type": "display_data"
    }
   ],
   "source": [
    "_X = X.copy()\n",
    "_X['questions'] = X['question1'].astype(str) + ' ' + X['question2'].astype(str)\n",
    "_X['questions'].value = _X['questions'].astype(str)\n",
    "\n",
    "print(_X.shape)\n",
    "display(_X.head())\n",
    "\n",
    "__X = list(_X['questions'])\n",
    "print(len(__X))\n",
    "display(__X[0])\n"
   ]
  },
  {
   "cell_type": "code",
   "execution_count": 154,
   "metadata": {
    "scrolled": true
   },
   "outputs": [
    {
     "name": "stderr",
     "output_type": "stream",
     "text": [
      "/anaconda3/lib/python3.6/site-packages/sklearn/model_selection/_split.py:2179: FutureWarning: From version 0.21, test_size will always complement train_size unless both are specified.\n",
      "  FutureWarning)\n"
     ]
    },
    {
     "name": "stdout",
     "output_type": "stream",
     "text": [
      "(283003, 9)\n",
      "283003\n",
      "(121287, 9)\n",
      "121287\n"
     ]
    }
   ],
   "source": [
    "X_train, X_test, y_train, y_test = train_test_split(_X, y, train_size=0.7, shuffle=True, stratify=y)\n",
    "print(X_train.shape)\n",
    "print(len(y_train))\n",
    "print(X_test.shape)\n",
    "print(len(y_test))\n"
   ]
  },
  {
   "cell_type": "markdown",
   "metadata": {},
   "source": [
    "### TF-IDF with new normalized String features (Random Forest model)"
   ]
  },
  {
   "cell_type": "code",
   "execution_count": 155,
   "metadata": {},
   "outputs": [],
   "source": [
    "vectorizer = TfidfVectorizer(lowercase=True,\n",
    "                             stop_words='english', \n",
    "                             norm='l2', \n",
    "                             smooth_idf=True, \n",
    "                             use_idf=True, \n",
    "                             binary=False, \n",
    "                             strip_accents='unicode',\n",
    "                            )\n",
    "Xv_train = vectorizer.fit_transform(X_train['questions'])\n"
   ]
  },
  {
   "cell_type": "code",
   "execution_count": 156,
   "metadata": {
    "scrolled": true
   },
   "outputs": [
    {
     "name": "stdout",
     "output_type": "stream",
     "text": [
      "(283003, 73749)\n",
      "  (0, 71539)\t0.05293985593198728\n",
      "  (0, 29813)\t0.10307837510728696\n",
      "  (0, 14507)\t0.5363473176451466\n",
      "  (0, 57306)\t0.255311202262035\n",
      "  (0, 34907)\t0.40619088429151046\n",
      "  (0, 66164)\t0.07629870724098087\n",
      "  (0, 40622)\t0.22440045103365386\n",
      "  (0, 34846)\t0.0653036849591473\n",
      "  (0, 38939)\t0.07322840432266288\n",
      "  (0, 53675)\t0.1800748075681643\n",
      "  (0, 21146)\t0.12518323757342728\n",
      "  (0, 18747)\t0.18350095607310515\n",
      "  (0, 20644)\t0.15162990020727668\n",
      "  (0, 53600)\t0.20415293881022104\n",
      "  (0, 47057)\t0.058276244649376994\n",
      "  (0, 65451)\t0.030400227272420182\n",
      "  (0, 24228)\t0.21242469459351918\n",
      "  (0, 46798)\t0.04234486036782243\n",
      "  (0, 28830)\t0.1137757181897544\n",
      "  (0, 67898)\t0.12408290823520582\n",
      "  (0, 6991)\t0.3236956611139389\n",
      "  (0, 72099)\t0.07463925754287612\n",
      "  (0, 71750)\t0.18052670576186514\n",
      "  (0, 9136)\t0.06223858318813041\n",
      "  (0, 32645)\t0.06324531392754315\n",
      "  (0, 30504)\t0.09746304012028263\n",
      "  (0, 35018)\t0.055086492730672856\n",
      "  (0, 66186)\t0.11644051222860048\n"
     ]
    }
   ],
   "source": [
    "print(Xv_train.shape)\n",
    "print(Xv_train[0])\n"
   ]
  },
  {
   "cell_type": "markdown",
   "metadata": {},
   "source": [
    "### train"
   ]
  },
  {
   "cell_type": "code",
   "execution_count": 157,
   "metadata": {},
   "outputs": [],
   "source": [
    "clf = rfClf(n_estimators=10,\n",
    "            criterion='entropy', \n",
    "            max_depth=None, \n",
    "            min_samples_split=2, \n",
    "            min_samples_leaf=1, \n",
    "            min_weight_fraction_leaf=0.0,\n",
    "            max_features=50,\n",
    "            max_leaf_nodes=None,\n",
    "            min_impurity_decrease=0.0,\n",
    "            bootstrap=True,\n",
    "            n_jobs=2,\n",
    "            warm_start=False,\n",
    "            class_weight=None,\n",
    "           )\n"
   ]
  },
  {
   "cell_type": "code",
   "execution_count": 158,
   "metadata": {
    "scrolled": true
   },
   "outputs": [
    {
     "name": "stdout",
     "output_type": "stream",
     "text": [
      "(283003, 73749)\n",
      "(283003, 73749)\n",
      "********************************************************************************\n",
      "\n",
      "(283003, 147501)\n",
      "  (0, 14507)\t0.34546728048999525\n",
      "  (0, 18747)\t0.3545850282624044\n",
      "  (0, 20644)\t0.2929995221877917\n",
      "  (0, 21146)\t0.24189575238653893\n",
      "  (0, 29813)\t0.19918178811067805\n",
      "  (0, 34846)\t0.12618849226950826\n",
      "  (0, 34907)\t0.5232641444805562\n",
      "  (0, 38939)\t0.1415016922637596\n",
      "  (0, 40622)\t0.21680824442180252\n",
      "  (0, 53675)\t0.3479645670372778\n",
      "  (0, 57306)\t0.2466731830915529\n",
      "  (0, 66164)\t0.14743454117290755\n",
      "  (0, 71539)\t0.10229745235971881\n",
      "  (0, 80740)\t0.47054319318238097\n",
      "  (0, 82885)\t0.09047369239274933\n",
      "  (0, 88256)\t0.5197774943518481\n",
      "  (0, 97977)\t0.30879312302441714\n",
      "  (0, 102579)\t0.16539112560047958\n",
      "  (0, 104253)\t0.14167805017107618\n",
      "  (0, 106394)\t0.09193713584814797\n",
      "  (0, 108656)\t0.19682104591533348\n",
      "  (0, 108767)\t0.08007698991549023\n",
      "  (0, 114371)\t0.16310089609723707\n",
      "  (0, 120547)\t0.06155499812314046\n",
      "  (0, 120806)\t0.08471380230933433\n",
      "  :\t:\n",
      "  (283002, 72669)\t0.23910776531077935\n",
      "  (283002, 79492)\t0.12707819969130943\n",
      "  (283002, 79604)\t0.08681018824306952\n",
      "  (283002, 82053)\t0.20118937641062778\n",
      "  (283002, 85597)\t0.22870822039965039\n",
      "  (283002, 89759)\t0.20486228224610314\n",
      "  (283002, 97100)\t0.22022215262182446\n",
      "  (283002, 105542)\t0.07039931821839891\n",
      "  (283002, 106394)\t0.12163633031761996\n",
      "  (283002, 106946)\t0.0753364936418837\n",
      "  (283002, 108767)\t0.10594490579181452\n",
      "  (283002, 115899)\t0.4383675959404835\n",
      "  (283002, 117771)\t0.16732789304462187\n",
      "  (283002, 123906)\t0.3430517228518094\n",
      "  (283002, 126061)\t0.27035341203877816\n",
      "  (283002, 131900)\t0.27686991334030436\n",
      "  (283002, 132563)\t0.26240036878569717\n",
      "  (283002, 138143)\t0.18130042252597817\n",
      "  (283002, 139727)\t0.32582500736862524\n",
      "  (283002, 139913)\t0.07337061183223581\n",
      "  (283002, 145011)\t0.18692275877830514\n",
      "  (283002, 145848)\t0.14354969279697696\n",
      "  (283002, 147498)\t0.64\n",
      "  (283002, 147499)\t0.78\n",
      "  (283002, 147500)\t0.74\n"
     ]
    }
   ],
   "source": [
    "Xv1_train = vectorizer.transform(X_train['question1'].astype(str))\n",
    "Xv2_train = vectorizer.transform(X_train['question2'].astype(str))\n",
    "Xvc_train = sp.sparse.hstack([Xv1_train, Xv2_train,\n",
    "                              X_train[['tokenSortRatio_norm','tokenSetRatio_norm','wratio_norm']]], format='csr')\n",
    "\n",
    "print(Xv1_train.shape)\n",
    "print(Xv2_train.shape)\n",
    "zprint()\n",
    "\n",
    "print(Xvc_train.shape)\n",
    "print(Xvc_train)\n"
   ]
  },
  {
   "cell_type": "code",
   "execution_count": 159,
   "metadata": {
    "scrolled": true
   },
   "outputs": [
    {
     "name": "stdout",
     "output_type": "stream",
     "text": [
      "CPU times: user 5min 51s, sys: 3.29 s, total: 5min 54s\n",
      "Wall time: 2min 56s\n"
     ]
    },
    {
     "data": {
      "text/plain": [
       "RandomForestClassifier(bootstrap=True, class_weight=None, criterion='entropy',\n",
       "            max_depth=None, max_features=50, max_leaf_nodes=None,\n",
       "            min_impurity_decrease=0.0, min_impurity_split=None,\n",
       "            min_samples_leaf=1, min_samples_split=2,\n",
       "            min_weight_fraction_leaf=0.0, n_estimators=10, n_jobs=2,\n",
       "            oob_score=False, random_state=None, verbose=0,\n",
       "            warm_start=False)"
      ]
     },
     "execution_count": 159,
     "metadata": {},
     "output_type": "execute_result"
    }
   ],
   "source": [
    "%%time\n",
    "clf.fit(Xvc_train, y_train)\n"
   ]
  },
  {
   "cell_type": "code",
   "execution_count": 160,
   "metadata": {},
   "outputs": [],
   "source": [
    "y_pred_train = clf.predict(Xvc_train)\n"
   ]
  },
  {
   "cell_type": "code",
   "execution_count": 161,
   "metadata": {},
   "outputs": [
    {
     "name": "stdout",
     "output_type": "stream",
     "text": [
      "binary\n",
      "0.9904629986254563\n",
      "0.9976628888258705\n",
      "0.9764557252785115\n",
      "********************************************************************************\n",
      "\n",
      "micro\n",
      "0.9904629986254563\n",
      "0.9904629986254563\n",
      "0.9904629986254563\n",
      "********************************************************************************\n",
      "\n",
      "macro\n",
      "0.9904629986254563\n",
      "0.9920260886532806\n",
      "0.9875584661044332\n",
      "********************************************************************************\n",
      "\n",
      "weighted\n",
      "0.9904629986254563\n",
      "0.9905514735404454\n",
      "0.9904629986254563\n",
      "********************************************************************************\n",
      "\n"
     ]
    }
   ],
   "source": [
    "averages = ['binary','micro','macro','weighted']\n",
    "for average in averages:\n",
    "    accuracy = metrics.accuracy_score(y_train, y_pred_train)\n",
    "    precision = metrics.precision_score(y_train, y_pred_train, average=average)\n",
    "    recall = metrics.recall_score(y_train, y_pred_train, average=average)\n",
    "    print(average)\n",
    "    print(accuracy)\n",
    "    print(precision)\n",
    "    print(recall)\n",
    "    zprint()\n"
   ]
  },
  {
   "cell_type": "markdown",
   "metadata": {},
   "source": [
    "### test"
   ]
  },
  {
   "cell_type": "code",
   "execution_count": 162,
   "metadata": {
    "scrolled": true
   },
   "outputs": [
    {
     "name": "stdout",
     "output_type": "stream",
     "text": [
      "(121287, 73749)\n",
      "(121287, 73749)\n",
      "********************************************************************************\n",
      "\n",
      "(121287, 147501)\n",
      "  (0, 6810)\t0.19160459681241124\n",
      "  (0, 9623)\t0.25524890826624314\n",
      "  (0, 14224)\t0.4973582926290971\n",
      "  (0, 33197)\t0.17450977316737196\n",
      "  (0, 50521)\t0.521366595811019\n",
      "  (0, 65451)\t0.13543351120811523\n",
      "  (0, 66164)\t0.16995599621159407\n",
      "  (0, 70172)\t0.5317745620673667\n",
      "  (0, 71344)\t0.1359490803037746\n",
      "  (0, 83372)\t0.23510975930186676\n",
      "  (0, 87973)\t0.45811670365635415\n",
      "  (0, 106946)\t0.1607409451577674\n",
      "  (0, 108595)\t0.13398733956793699\n",
      "  (0, 124257)\t0.4575960900055202\n",
      "  (0, 139200)\t0.12474780181364538\n",
      "  (0, 139913)\t0.1565464613840285\n",
      "  (0, 143921)\t0.48981752807382684\n",
      "  (0, 144499)\t0.3732558218455383\n",
      "  (0, 145093)\t0.12522269248725218\n",
      "  (0, 146574)\t0.21604952213812265\n",
      "  (0, 147498)\t0.81\n",
      "  (0, 147499)\t0.85\n",
      "  (0, 147500)\t0.84\n",
      "  (1, 8724)\t0.5248637394554759\n",
      "  (1, 69895)\t0.7707358615084331\n",
      "  :\t:\n",
      "  (121285, 147499)\t0.65\n",
      "  (121285, 147500)\t0.86\n",
      "  (121286, 18399)\t0.6454485552183719\n",
      "  (121286, 21085)\t0.13358806630600775\n",
      "  (121286, 31793)\t0.12042777466554755\n",
      "  (121286, 33197)\t0.12887349636329423\n",
      "  (121286, 35018)\t0.18123342050100713\n",
      "  (121286, 38007)\t0.33965272308068645\n",
      "  (121286, 57019)\t0.47962881429310483\n",
      "  (121286, 57881)\t0.3552206717077904\n",
      "  (121286, 72825)\t0.17321695650246935\n",
      "  (121286, 80559)\t0.1358457695751059\n",
      "  (121286, 94834)\t0.12825195697107142\n",
      "  (121286, 105542)\t0.11561734668086206\n",
      "  (121286, 106946)\t0.12372570819638719\n",
      "  (121286, 119572)\t0.3153878356632563\n",
      "  (121286, 130768)\t0.4604702781751313\n",
      "  (121286, 131630)\t0.3410315574053173\n",
      "  (121286, 134890)\t0.20192058907469443\n",
      "  (121286, 143235)\t0.6564295639446985\n",
      "  (121286, 145093)\t0.09638655723367205\n",
      "  (121286, 146574)\t0.16629789071971593\n",
      "  (121286, 147498)\t0.61\n",
      "  (121286, 147499)\t0.75\n",
      "  (121286, 147500)\t0.71\n"
     ]
    }
   ],
   "source": [
    "Xv1_test = vectorizer.transform(X_test['question1'].astype(str))\n",
    "Xv2_test = vectorizer.transform(X_test['question2'].astype(str))\n",
    "Xvc_test = sp.sparse.hstack([Xv1_test, Xv2_test,\n",
    "                             X_test[['tokenSortRatio_norm','tokenSetRatio_norm','wratio_norm']]], format='csr')\n",
    "\n",
    "print(Xv1_test.shape)\n",
    "print(Xv2_test.shape)\n",
    "zprint()\n",
    "\n",
    "print(Xvc_test.shape)\n",
    "print(Xvc_test)\n"
   ]
  },
  {
   "cell_type": "code",
   "execution_count": 163,
   "metadata": {},
   "outputs": [],
   "source": [
    "y_pred = clf.predict(Xvc_test)\n"
   ]
  },
  {
   "cell_type": "code",
   "execution_count": 164,
   "metadata": {},
   "outputs": [
    {
     "name": "stdout",
     "output_type": "stream",
     "text": [
      "binary\n",
      "0.8022953820277523\n",
      "0.8056845570513197\n",
      "0.6121396190178432\n",
      "********************************************************************************\n",
      "\n",
      "micro\n",
      "0.8022953820277523\n",
      "0.8022953820277523\n",
      "0.8022953820277523\n",
      "********************************************************************************\n",
      "\n",
      "macro\n",
      "0.8022953820277523\n",
      "0.8033293008140916\n",
      "0.7628651773135956\n",
      "********************************************************************************\n",
      "\n",
      "weighted\n",
      "0.8022953820277523\n",
      "0.80271315955286\n",
      "0.8022953820277523\n",
      "********************************************************************************\n",
      "\n"
     ]
    }
   ],
   "source": [
    "averages = ['binary','micro','macro','weighted']\n",
    "for average in averages:\n",
    "    accuracy = metrics.accuracy_score(y_test, y_pred)\n",
    "    precision = metrics.precision_score(y_test, y_pred, average=average)\n",
    "    recall = metrics.recall_score(y_test, y_pred, average=average)\n",
    "    print(average)\n",
    "    print(accuracy)\n",
    "    print(precision)\n",
    "    print(recall)\n",
    "    zprint()\n"
   ]
  },
  {
   "cell_type": "markdown",
   "metadata": {},
   "source": [
    "### load data with new NLP features and normalize"
   ]
  },
  {
   "cell_type": "code",
   "execution_count": 178,
   "metadata": {},
   "outputs": [
    {
     "name": "stdout",
     "output_type": "stream",
     "text": [
      "(404287, 10)\n"
     ]
    },
    {
     "data": {
      "text/html": [
       "<div>\n",
       "<style scoped>\n",
       "    .dataframe tbody tr th:only-of-type {\n",
       "        vertical-align: middle;\n",
       "    }\n",
       "\n",
       "    .dataframe tbody tr th {\n",
       "        vertical-align: top;\n",
       "    }\n",
       "\n",
       "    .dataframe thead th {\n",
       "        text-align: right;\n",
       "    }\n",
       "</style>\n",
       "<table border=\"1\" class=\"dataframe\">\n",
       "  <thead>\n",
       "    <tr style=\"text-align: right;\">\n",
       "      <th></th>\n",
       "      <th>question1</th>\n",
       "      <th>question2</th>\n",
       "      <th>is_duplicate</th>\n",
       "      <th>tokenSortRatio</th>\n",
       "      <th>tokenSetRatio</th>\n",
       "      <th>wratio</th>\n",
       "      <th>verb_diff</th>\n",
       "      <th>adj_diff</th>\n",
       "      <th>nn_diff</th>\n",
       "      <th>ne_diff</th>\n",
       "    </tr>\n",
       "  </thead>\n",
       "  <tbody>\n",
       "    <tr>\n",
       "      <th>0</th>\n",
       "      <td>What is the step by step guide to invest in sh...</td>\n",
       "      <td>What is the step by step guide to invest in sh...</td>\n",
       "      <td>0</td>\n",
       "      <td>93</td>\n",
       "      <td>100</td>\n",
       "      <td>95</td>\n",
       "      <td>0.000000</td>\n",
       "      <td>0.000000</td>\n",
       "      <td>0.090909</td>\n",
       "      <td>1.0</td>\n",
       "    </tr>\n",
       "    <tr>\n",
       "      <th>1</th>\n",
       "      <td>What is the story of Kohinoor (Koh-i-Noor) Dia...</td>\n",
       "      <td>What would happen if the Indian government sto...</td>\n",
       "      <td>0</td>\n",
       "      <td>63</td>\n",
       "      <td>86</td>\n",
       "      <td>86</td>\n",
       "      <td>1.000000</td>\n",
       "      <td>1.000000</td>\n",
       "      <td>0.230769</td>\n",
       "      <td>1.0</td>\n",
       "    </tr>\n",
       "    <tr>\n",
       "      <th>2</th>\n",
       "      <td>How can I increase the speed of my internet co...</td>\n",
       "      <td>How can Internet speed be increased by hacking...</td>\n",
       "      <td>0</td>\n",
       "      <td>63</td>\n",
       "      <td>63</td>\n",
       "      <td>60</td>\n",
       "      <td>0.500000</td>\n",
       "      <td>0.333333</td>\n",
       "      <td>0.666667</td>\n",
       "      <td>1.0</td>\n",
       "    </tr>\n",
       "    <tr>\n",
       "      <th>3</th>\n",
       "      <td>Why am I mentally very lonely? How can I solve...</td>\n",
       "      <td>Find the remainder when [math]23^{24}[/math] i...</td>\n",
       "      <td>0</td>\n",
       "      <td>24</td>\n",
       "      <td>28</td>\n",
       "      <td>27</td>\n",
       "      <td>0.666667</td>\n",
       "      <td>1.000000</td>\n",
       "      <td>1.000000</td>\n",
       "      <td>1.0</td>\n",
       "    </tr>\n",
       "    <tr>\n",
       "      <th>4</th>\n",
       "      <td>Which one dissolve in water quikly sugar, salt...</td>\n",
       "      <td>Which fish would survive in salt water?</td>\n",
       "      <td>0</td>\n",
       "      <td>47</td>\n",
       "      <td>67</td>\n",
       "      <td>86</td>\n",
       "      <td>1.000000</td>\n",
       "      <td>0.333333</td>\n",
       "      <td>0.600000</td>\n",
       "      <td>0.0</td>\n",
       "    </tr>\n",
       "  </tbody>\n",
       "</table>\n",
       "</div>"
      ],
      "text/plain": [
       "                                           question1  \\\n",
       "0  What is the step by step guide to invest in sh...   \n",
       "1  What is the story of Kohinoor (Koh-i-Noor) Dia...   \n",
       "2  How can I increase the speed of my internet co...   \n",
       "3  Why am I mentally very lonely? How can I solve...   \n",
       "4  Which one dissolve in water quikly sugar, salt...   \n",
       "\n",
       "                                           question2  is_duplicate  \\\n",
       "0  What is the step by step guide to invest in sh...             0   \n",
       "1  What would happen if the Indian government sto...             0   \n",
       "2  How can Internet speed be increased by hacking...             0   \n",
       "3  Find the remainder when [math]23^{24}[/math] i...             0   \n",
       "4            Which fish would survive in salt water?             0   \n",
       "\n",
       "   tokenSortRatio  tokenSetRatio  wratio  verb_diff  adj_diff   nn_diff  \\\n",
       "0              93            100      95   0.000000  0.000000  0.090909   \n",
       "1              63             86      86   1.000000  1.000000  0.230769   \n",
       "2              63             63      60   0.500000  0.333333  0.666667   \n",
       "3              24             28      27   0.666667  1.000000  1.000000   \n",
       "4              47             67      86   1.000000  0.333333  0.600000   \n",
       "\n",
       "   ne_diff  \n",
       "0      1.0  \n",
       "1      1.0  \n",
       "2      1.0  \n",
       "3      1.0  \n",
       "4      0.0  "
      ]
     },
     "metadata": {},
     "output_type": "display_data"
    }
   ],
   "source": [
    "data_fe_2 = pd.read_csv('./data-quora-question-pairs/finaldata.csv')\n",
    "\n",
    "print(data_fe_2.shape)\n",
    "display(data_fe_2.head())\n"
   ]
  },
  {
   "cell_type": "code",
   "execution_count": 179,
   "metadata": {
    "scrolled": true
   },
   "outputs": [
    {
     "name": "stdout",
     "output_type": "stream",
     "text": [
      "404287\n"
     ]
    },
    {
     "data": {
      "text/plain": [
       "[0, 0, 0, 0, 0, 1, 0, 1, 0, 0]"
      ]
     },
     "metadata": {},
     "output_type": "display_data"
    },
    {
     "name": "stdout",
     "output_type": "stream",
     "text": [
      "********************************************************************************\n",
      "\n",
      "(404287, 9)\n"
     ]
    },
    {
     "data": {
      "text/html": [
       "<div>\n",
       "<style scoped>\n",
       "    .dataframe tbody tr th:only-of-type {\n",
       "        vertical-align: middle;\n",
       "    }\n",
       "\n",
       "    .dataframe tbody tr th {\n",
       "        vertical-align: top;\n",
       "    }\n",
       "\n",
       "    .dataframe thead th {\n",
       "        text-align: right;\n",
       "    }\n",
       "</style>\n",
       "<table border=\"1\" class=\"dataframe\">\n",
       "  <thead>\n",
       "    <tr style=\"text-align: right;\">\n",
       "      <th></th>\n",
       "      <th>question1</th>\n",
       "      <th>question2</th>\n",
       "      <th>tokenSortRatio</th>\n",
       "      <th>tokenSetRatio</th>\n",
       "      <th>wratio</th>\n",
       "      <th>verb_diff</th>\n",
       "      <th>adj_diff</th>\n",
       "      <th>nn_diff</th>\n",
       "      <th>ne_diff</th>\n",
       "    </tr>\n",
       "  </thead>\n",
       "  <tbody>\n",
       "    <tr>\n",
       "      <th>0</th>\n",
       "      <td>What is the step by step guide to invest in sh...</td>\n",
       "      <td>What is the step by step guide to invest in sh...</td>\n",
       "      <td>93</td>\n",
       "      <td>100</td>\n",
       "      <td>95</td>\n",
       "      <td>0.000000</td>\n",
       "      <td>0.000000</td>\n",
       "      <td>0.090909</td>\n",
       "      <td>1.0</td>\n",
       "    </tr>\n",
       "    <tr>\n",
       "      <th>1</th>\n",
       "      <td>What is the story of Kohinoor (Koh-i-Noor) Dia...</td>\n",
       "      <td>What would happen if the Indian government sto...</td>\n",
       "      <td>63</td>\n",
       "      <td>86</td>\n",
       "      <td>86</td>\n",
       "      <td>1.000000</td>\n",
       "      <td>1.000000</td>\n",
       "      <td>0.230769</td>\n",
       "      <td>1.0</td>\n",
       "    </tr>\n",
       "    <tr>\n",
       "      <th>2</th>\n",
       "      <td>How can I increase the speed of my internet co...</td>\n",
       "      <td>How can Internet speed be increased by hacking...</td>\n",
       "      <td>63</td>\n",
       "      <td>63</td>\n",
       "      <td>60</td>\n",
       "      <td>0.500000</td>\n",
       "      <td>0.333333</td>\n",
       "      <td>0.666667</td>\n",
       "      <td>1.0</td>\n",
       "    </tr>\n",
       "    <tr>\n",
       "      <th>3</th>\n",
       "      <td>Why am I mentally very lonely? How can I solve...</td>\n",
       "      <td>Find the remainder when [math]23^{24}[/math] i...</td>\n",
       "      <td>24</td>\n",
       "      <td>28</td>\n",
       "      <td>27</td>\n",
       "      <td>0.666667</td>\n",
       "      <td>1.000000</td>\n",
       "      <td>1.000000</td>\n",
       "      <td>1.0</td>\n",
       "    </tr>\n",
       "    <tr>\n",
       "      <th>4</th>\n",
       "      <td>Which one dissolve in water quikly sugar, salt...</td>\n",
       "      <td>Which fish would survive in salt water?</td>\n",
       "      <td>47</td>\n",
       "      <td>67</td>\n",
       "      <td>86</td>\n",
       "      <td>1.000000</td>\n",
       "      <td>0.333333</td>\n",
       "      <td>0.600000</td>\n",
       "      <td>0.0</td>\n",
       "    </tr>\n",
       "  </tbody>\n",
       "</table>\n",
       "</div>"
      ],
      "text/plain": [
       "                                           question1  \\\n",
       "0  What is the step by step guide to invest in sh...   \n",
       "1  What is the story of Kohinoor (Koh-i-Noor) Dia...   \n",
       "2  How can I increase the speed of my internet co...   \n",
       "3  Why am I mentally very lonely? How can I solve...   \n",
       "4  Which one dissolve in water quikly sugar, salt...   \n",
       "\n",
       "                                           question2  tokenSortRatio  \\\n",
       "0  What is the step by step guide to invest in sh...              93   \n",
       "1  What would happen if the Indian government sto...              63   \n",
       "2  How can Internet speed be increased by hacking...              63   \n",
       "3  Find the remainder when [math]23^{24}[/math] i...              24   \n",
       "4            Which fish would survive in salt water?              47   \n",
       "\n",
       "   tokenSetRatio  wratio  verb_diff  adj_diff   nn_diff  ne_diff  \n",
       "0            100      95   0.000000  0.000000  0.090909      1.0  \n",
       "1             86      86   1.000000  1.000000  0.230769      1.0  \n",
       "2             63      60   0.500000  0.333333  0.666667      1.0  \n",
       "3             28      27   0.666667  1.000000  1.000000      1.0  \n",
       "4             67      86   1.000000  0.333333  0.600000      0.0  "
      ]
     },
     "metadata": {},
     "output_type": "display_data"
    },
    {
     "name": "stdout",
     "output_type": "stream",
     "text": [
      "(404287, 12)\n"
     ]
    },
    {
     "data": {
      "text/html": [
       "<div>\n",
       "<style scoped>\n",
       "    .dataframe tbody tr th:only-of-type {\n",
       "        vertical-align: middle;\n",
       "    }\n",
       "\n",
       "    .dataframe tbody tr th {\n",
       "        vertical-align: top;\n",
       "    }\n",
       "\n",
       "    .dataframe thead th {\n",
       "        text-align: right;\n",
       "    }\n",
       "</style>\n",
       "<table border=\"1\" class=\"dataframe\">\n",
       "  <thead>\n",
       "    <tr style=\"text-align: right;\">\n",
       "      <th></th>\n",
       "      <th>question1</th>\n",
       "      <th>question2</th>\n",
       "      <th>tokenSortRatio</th>\n",
       "      <th>tokenSetRatio</th>\n",
       "      <th>wratio</th>\n",
       "      <th>verb_diff</th>\n",
       "      <th>adj_diff</th>\n",
       "      <th>nn_diff</th>\n",
       "      <th>ne_diff</th>\n",
       "      <th>tokenSortRatio_norm</th>\n",
       "      <th>tokenSetRatio_norm</th>\n",
       "      <th>wratio_norm</th>\n",
       "    </tr>\n",
       "  </thead>\n",
       "  <tbody>\n",
       "    <tr>\n",
       "      <th>0</th>\n",
       "      <td>What is the step by step guide to invest in sh...</td>\n",
       "      <td>What is the step by step guide to invest in sh...</td>\n",
       "      <td>93</td>\n",
       "      <td>100</td>\n",
       "      <td>95</td>\n",
       "      <td>0.000000</td>\n",
       "      <td>0.000000</td>\n",
       "      <td>0.090909</td>\n",
       "      <td>1.0</td>\n",
       "      <td>0.93</td>\n",
       "      <td>1.00</td>\n",
       "      <td>0.95</td>\n",
       "    </tr>\n",
       "    <tr>\n",
       "      <th>1</th>\n",
       "      <td>What is the story of Kohinoor (Koh-i-Noor) Dia...</td>\n",
       "      <td>What would happen if the Indian government sto...</td>\n",
       "      <td>63</td>\n",
       "      <td>86</td>\n",
       "      <td>86</td>\n",
       "      <td>1.000000</td>\n",
       "      <td>1.000000</td>\n",
       "      <td>0.230769</td>\n",
       "      <td>1.0</td>\n",
       "      <td>0.63</td>\n",
       "      <td>0.86</td>\n",
       "      <td>0.86</td>\n",
       "    </tr>\n",
       "    <tr>\n",
       "      <th>2</th>\n",
       "      <td>How can I increase the speed of my internet co...</td>\n",
       "      <td>How can Internet speed be increased by hacking...</td>\n",
       "      <td>63</td>\n",
       "      <td>63</td>\n",
       "      <td>60</td>\n",
       "      <td>0.500000</td>\n",
       "      <td>0.333333</td>\n",
       "      <td>0.666667</td>\n",
       "      <td>1.0</td>\n",
       "      <td>0.63</td>\n",
       "      <td>0.63</td>\n",
       "      <td>0.60</td>\n",
       "    </tr>\n",
       "    <tr>\n",
       "      <th>3</th>\n",
       "      <td>Why am I mentally very lonely? How can I solve...</td>\n",
       "      <td>Find the remainder when [math]23^{24}[/math] i...</td>\n",
       "      <td>24</td>\n",
       "      <td>28</td>\n",
       "      <td>27</td>\n",
       "      <td>0.666667</td>\n",
       "      <td>1.000000</td>\n",
       "      <td>1.000000</td>\n",
       "      <td>1.0</td>\n",
       "      <td>0.24</td>\n",
       "      <td>0.28</td>\n",
       "      <td>0.27</td>\n",
       "    </tr>\n",
       "    <tr>\n",
       "      <th>4</th>\n",
       "      <td>Which one dissolve in water quikly sugar, salt...</td>\n",
       "      <td>Which fish would survive in salt water?</td>\n",
       "      <td>47</td>\n",
       "      <td>67</td>\n",
       "      <td>86</td>\n",
       "      <td>1.000000</td>\n",
       "      <td>0.333333</td>\n",
       "      <td>0.600000</td>\n",
       "      <td>0.0</td>\n",
       "      <td>0.47</td>\n",
       "      <td>0.67</td>\n",
       "      <td>0.86</td>\n",
       "    </tr>\n",
       "  </tbody>\n",
       "</table>\n",
       "</div>"
      ],
      "text/plain": [
       "                                           question1  \\\n",
       "0  What is the step by step guide to invest in sh...   \n",
       "1  What is the story of Kohinoor (Koh-i-Noor) Dia...   \n",
       "2  How can I increase the speed of my internet co...   \n",
       "3  Why am I mentally very lonely? How can I solve...   \n",
       "4  Which one dissolve in water quikly sugar, salt...   \n",
       "\n",
       "                                           question2  tokenSortRatio  \\\n",
       "0  What is the step by step guide to invest in sh...              93   \n",
       "1  What would happen if the Indian government sto...              63   \n",
       "2  How can Internet speed be increased by hacking...              63   \n",
       "3  Find the remainder when [math]23^{24}[/math] i...              24   \n",
       "4            Which fish would survive in salt water?              47   \n",
       "\n",
       "   tokenSetRatio  wratio  verb_diff  adj_diff   nn_diff  ne_diff  \\\n",
       "0            100      95   0.000000  0.000000  0.090909      1.0   \n",
       "1             86      86   1.000000  1.000000  0.230769      1.0   \n",
       "2             63      60   0.500000  0.333333  0.666667      1.0   \n",
       "3             28      27   0.666667  1.000000  1.000000      1.0   \n",
       "4             67      86   1.000000  0.333333  0.600000      0.0   \n",
       "\n",
       "   tokenSortRatio_norm  tokenSetRatio_norm  wratio_norm  \n",
       "0                 0.93                1.00         0.95  \n",
       "1                 0.63                0.86         0.86  \n",
       "2                 0.63                0.63         0.60  \n",
       "3                 0.24                0.28         0.27  \n",
       "4                 0.47                0.67         0.86  "
      ]
     },
     "metadata": {},
     "output_type": "display_data"
    }
   ],
   "source": [
    "y = list(data_fe_2['is_duplicate'])\n",
    "print(len(y))\n",
    "display(y[:10])\n",
    "zprint()\n",
    "\n",
    "X = data_fe_2[['question1','question2',\n",
    "               'tokenSortRatio','tokenSetRatio','wratio',\n",
    "               'verb_diff','adj_diff','nn_diff','ne_diff']]\n",
    "X['question1'].value = X['question1'].astype(str)\n",
    "X['question2'].value = X['question2'].astype(str)\n",
    "print(X.shape)\n",
    "display(X.head())\n",
    "\n",
    "for col in ['tokenSortRatio','tokenSetRatio','wratio']:\n",
    "    X[col+'_norm'] = X[col] / X[col].max()\n",
    "print(X.shape)\n",
    "display(X.head())\n"
   ]
  },
  {
   "cell_type": "markdown",
   "metadata": {},
   "source": [
    "### split into train and test"
   ]
  },
  {
   "cell_type": "code",
   "execution_count": 180,
   "metadata": {
    "scrolled": true
   },
   "outputs": [
    {
     "name": "stdout",
     "output_type": "stream",
     "text": [
      "(404287, 13)\n"
     ]
    },
    {
     "data": {
      "text/html": [
       "<div>\n",
       "<style scoped>\n",
       "    .dataframe tbody tr th:only-of-type {\n",
       "        vertical-align: middle;\n",
       "    }\n",
       "\n",
       "    .dataframe tbody tr th {\n",
       "        vertical-align: top;\n",
       "    }\n",
       "\n",
       "    .dataframe thead th {\n",
       "        text-align: right;\n",
       "    }\n",
       "</style>\n",
       "<table border=\"1\" class=\"dataframe\">\n",
       "  <thead>\n",
       "    <tr style=\"text-align: right;\">\n",
       "      <th></th>\n",
       "      <th>question1</th>\n",
       "      <th>question2</th>\n",
       "      <th>tokenSortRatio</th>\n",
       "      <th>tokenSetRatio</th>\n",
       "      <th>wratio</th>\n",
       "      <th>verb_diff</th>\n",
       "      <th>adj_diff</th>\n",
       "      <th>nn_diff</th>\n",
       "      <th>ne_diff</th>\n",
       "      <th>tokenSortRatio_norm</th>\n",
       "      <th>tokenSetRatio_norm</th>\n",
       "      <th>wratio_norm</th>\n",
       "      <th>questions</th>\n",
       "    </tr>\n",
       "  </thead>\n",
       "  <tbody>\n",
       "    <tr>\n",
       "      <th>0</th>\n",
       "      <td>What is the step by step guide to invest in sh...</td>\n",
       "      <td>What is the step by step guide to invest in sh...</td>\n",
       "      <td>93</td>\n",
       "      <td>100</td>\n",
       "      <td>95</td>\n",
       "      <td>0.000000</td>\n",
       "      <td>0.000000</td>\n",
       "      <td>0.090909</td>\n",
       "      <td>1.0</td>\n",
       "      <td>0.93</td>\n",
       "      <td>1.00</td>\n",
       "      <td>0.95</td>\n",
       "      <td>What is the step by step guide to invest in sh...</td>\n",
       "    </tr>\n",
       "    <tr>\n",
       "      <th>1</th>\n",
       "      <td>What is the story of Kohinoor (Koh-i-Noor) Dia...</td>\n",
       "      <td>What would happen if the Indian government sto...</td>\n",
       "      <td>63</td>\n",
       "      <td>86</td>\n",
       "      <td>86</td>\n",
       "      <td>1.000000</td>\n",
       "      <td>1.000000</td>\n",
       "      <td>0.230769</td>\n",
       "      <td>1.0</td>\n",
       "      <td>0.63</td>\n",
       "      <td>0.86</td>\n",
       "      <td>0.86</td>\n",
       "      <td>What is the story of Kohinoor (Koh-i-Noor) Dia...</td>\n",
       "    </tr>\n",
       "    <tr>\n",
       "      <th>2</th>\n",
       "      <td>How can I increase the speed of my internet co...</td>\n",
       "      <td>How can Internet speed be increased by hacking...</td>\n",
       "      <td>63</td>\n",
       "      <td>63</td>\n",
       "      <td>60</td>\n",
       "      <td>0.500000</td>\n",
       "      <td>0.333333</td>\n",
       "      <td>0.666667</td>\n",
       "      <td>1.0</td>\n",
       "      <td>0.63</td>\n",
       "      <td>0.63</td>\n",
       "      <td>0.60</td>\n",
       "      <td>How can I increase the speed of my internet co...</td>\n",
       "    </tr>\n",
       "    <tr>\n",
       "      <th>3</th>\n",
       "      <td>Why am I mentally very lonely? How can I solve...</td>\n",
       "      <td>Find the remainder when [math]23^{24}[/math] i...</td>\n",
       "      <td>24</td>\n",
       "      <td>28</td>\n",
       "      <td>27</td>\n",
       "      <td>0.666667</td>\n",
       "      <td>1.000000</td>\n",
       "      <td>1.000000</td>\n",
       "      <td>1.0</td>\n",
       "      <td>0.24</td>\n",
       "      <td>0.28</td>\n",
       "      <td>0.27</td>\n",
       "      <td>Why am I mentally very lonely? How can I solve...</td>\n",
       "    </tr>\n",
       "    <tr>\n",
       "      <th>4</th>\n",
       "      <td>Which one dissolve in water quikly sugar, salt...</td>\n",
       "      <td>Which fish would survive in salt water?</td>\n",
       "      <td>47</td>\n",
       "      <td>67</td>\n",
       "      <td>86</td>\n",
       "      <td>1.000000</td>\n",
       "      <td>0.333333</td>\n",
       "      <td>0.600000</td>\n",
       "      <td>0.0</td>\n",
       "      <td>0.47</td>\n",
       "      <td>0.67</td>\n",
       "      <td>0.86</td>\n",
       "      <td>Which one dissolve in water quikly sugar, salt...</td>\n",
       "    </tr>\n",
       "  </tbody>\n",
       "</table>\n",
       "</div>"
      ],
      "text/plain": [
       "                                           question1  \\\n",
       "0  What is the step by step guide to invest in sh...   \n",
       "1  What is the story of Kohinoor (Koh-i-Noor) Dia...   \n",
       "2  How can I increase the speed of my internet co...   \n",
       "3  Why am I mentally very lonely? How can I solve...   \n",
       "4  Which one dissolve in water quikly sugar, salt...   \n",
       "\n",
       "                                           question2  tokenSortRatio  \\\n",
       "0  What is the step by step guide to invest in sh...              93   \n",
       "1  What would happen if the Indian government sto...              63   \n",
       "2  How can Internet speed be increased by hacking...              63   \n",
       "3  Find the remainder when [math]23^{24}[/math] i...              24   \n",
       "4            Which fish would survive in salt water?              47   \n",
       "\n",
       "   tokenSetRatio  wratio  verb_diff  adj_diff   nn_diff  ne_diff  \\\n",
       "0            100      95   0.000000  0.000000  0.090909      1.0   \n",
       "1             86      86   1.000000  1.000000  0.230769      1.0   \n",
       "2             63      60   0.500000  0.333333  0.666667      1.0   \n",
       "3             28      27   0.666667  1.000000  1.000000      1.0   \n",
       "4             67      86   1.000000  0.333333  0.600000      0.0   \n",
       "\n",
       "   tokenSortRatio_norm  tokenSetRatio_norm  wratio_norm  \\\n",
       "0                 0.93                1.00         0.95   \n",
       "1                 0.63                0.86         0.86   \n",
       "2                 0.63                0.63         0.60   \n",
       "3                 0.24                0.28         0.27   \n",
       "4                 0.47                0.67         0.86   \n",
       "\n",
       "                                           questions  \n",
       "0  What is the step by step guide to invest in sh...  \n",
       "1  What is the story of Kohinoor (Koh-i-Noor) Dia...  \n",
       "2  How can I increase the speed of my internet co...  \n",
       "3  Why am I mentally very lonely? How can I solve...  \n",
       "4  Which one dissolve in water quikly sugar, salt...  "
      ]
     },
     "metadata": {},
     "output_type": "display_data"
    },
    {
     "name": "stdout",
     "output_type": "stream",
     "text": [
      "404287\n"
     ]
    },
    {
     "data": {
      "text/plain": [
       "'What is the step by step guide to invest in share market in india? What is the step by step guide to invest in share market?'"
      ]
     },
     "metadata": {},
     "output_type": "display_data"
    }
   ],
   "source": [
    "_X = X.copy()\n",
    "_X['questions'] = X['question1'].astype(str) + ' ' + X['question2'].astype(str)\n",
    "_X['questions'].value = _X['questions'].astype(str)\n",
    "\n",
    "print(_X.shape)\n",
    "display(_X.head())\n",
    "\n",
    "__X = list(_X['questions'])\n",
    "print(len(__X))\n",
    "display(__X[0])\n"
   ]
  },
  {
   "cell_type": "code",
   "execution_count": 181,
   "metadata": {
    "scrolled": true
   },
   "outputs": [
    {
     "name": "stderr",
     "output_type": "stream",
     "text": [
      "/anaconda3/lib/python3.6/site-packages/sklearn/model_selection/_split.py:2179: FutureWarning: From version 0.21, test_size will always complement train_size unless both are specified.\n",
      "  FutureWarning)\n"
     ]
    },
    {
     "name": "stdout",
     "output_type": "stream",
     "text": [
      "(283000, 13)\n",
      "283000\n",
      "(121287, 13)\n",
      "121287\n"
     ]
    }
   ],
   "source": [
    "X_train, X_test, y_train, y_test = train_test_split(_X, y, train_size=0.7, shuffle=True, stratify=y)\n",
    "print(X_train.shape)\n",
    "print(len(y_train))\n",
    "print(X_test.shape)\n",
    "print(len(y_test))\n"
   ]
  },
  {
   "cell_type": "markdown",
   "metadata": {},
   "source": [
    "### TF-IDF with new normalized String features + NLP features (Random Forest model)"
   ]
  },
  {
   "cell_type": "code",
   "execution_count": 182,
   "metadata": {},
   "outputs": [],
   "source": [
    "vectorizer = TfidfVectorizer(lowercase=True,\n",
    "                             stop_words='english', \n",
    "                             norm='l2', \n",
    "                             smooth_idf=True, \n",
    "                             use_idf=True, \n",
    "                             binary=False, \n",
    "                             strip_accents='unicode',\n",
    "                            )\n",
    "Xv_train = vectorizer.fit_transform(X_train['questions'])\n"
   ]
  },
  {
   "cell_type": "code",
   "execution_count": 183,
   "metadata": {
    "scrolled": true
   },
   "outputs": [
    {
     "name": "stdout",
     "output_type": "stream",
     "text": [
      "(283000, 73618)\n",
      "  (0, 31813)\t0.0839783795368488\n",
      "  (0, 38927)\t0.2946308358646404\n",
      "  (0, 6826)\t0.09871150545660912\n",
      "  (0, 72726)\t0.24144701813486186\n",
      "  (0, 66117)\t0.08767387742011196\n",
      "  (0, 28154)\t0.15286838756900753\n",
      "  (0, 7010)\t0.37872539502966535\n",
      "  (0, 32649)\t0.1453175002081391\n",
      "  (0, 70612)\t0.3439485920047134\n",
      "  (0, 68765)\t0.21571431710517544\n",
      "  (0, 5874)\t0.10366300617696682\n",
      "  (0, 59574)\t0.36050608712334353\n",
      "  (0, 61167)\t0.20095554491292938\n",
      "  (0, 71262)\t0.07009757774480421\n",
      "  (0, 21067)\t0.09323044445120451\n",
      "  (0, 39609)\t0.22728272079991466\n",
      "  (0, 3684)\t0.17893078729234732\n",
      "  (0, 38839)\t0.19598580534182505\n",
      "  (0, 33178)\t0.08998460041255339\n",
      "  (0, 65409)\t0.0697940420993238\n",
      "  (0, 9964)\t0.2617643909075131\n",
      "  (0, 14689)\t0.28175932798254555\n"
     ]
    }
   ],
   "source": [
    "print(Xv_train.shape)\n",
    "print(Xv_train[0])\n"
   ]
  },
  {
   "cell_type": "markdown",
   "metadata": {},
   "source": [
    "### train"
   ]
  },
  {
   "cell_type": "code",
   "execution_count": 184,
   "metadata": {},
   "outputs": [],
   "source": [
    "clf = rfClf(n_estimators=10,\n",
    "            criterion='entropy', \n",
    "            max_depth=None, \n",
    "            min_samples_split=2, \n",
    "            min_samples_leaf=1, \n",
    "            min_weight_fraction_leaf=0.0,\n",
    "            max_features=50,\n",
    "            max_leaf_nodes=None,\n",
    "            min_impurity_decrease=0.0,\n",
    "            bootstrap=True,\n",
    "            n_jobs=2,\n",
    "            warm_start=False,\n",
    "            class_weight=None,\n",
    "           )\n"
   ]
  },
  {
   "cell_type": "code",
   "execution_count": 185,
   "metadata": {
    "scrolled": true
   },
   "outputs": [
    {
     "name": "stdout",
     "output_type": "stream",
     "text": [
      "(283000, 73618)\n",
      "(283000, 73618)\n",
      "********************************************************************************\n",
      "\n",
      "(283000, 147243)\n",
      "  (0, 5874)\t0.12359828390319588\n",
      "  (0, 6826)\t0.11769456748253866\n",
      "  (0, 7010)\t0.45155750949683915\n",
      "  (0, 28154)\t0.18226627862135206\n",
      "  (0, 31813)\t0.10012813614537105\n",
      "  (0, 32649)\t0.1732632914018184\n",
      "  (0, 38927)\t0.3512908513927033\n",
      "  (0, 59574)\t0.42983447372763667\n",
      "  (0, 61167)\t0.23960100529660747\n",
      "  (0, 66117)\t0.10453430970124375\n",
      "  (0, 68765)\t0.25719801490257754\n",
      "  (0, 70612)\t0.4100928314786688\n",
      "  (0, 72726)\t0.2878793331930549\n",
      "  (0, 77302)\t0.3285667671445781\n",
      "  (0, 83582)\t0.48067233691610545\n",
      "  (0, 88307)\t0.5173886110320226\n",
      "  (0, 94685)\t0.1711970656158542\n",
      "  (0, 106796)\t0.16523679182187245\n",
      "  (0, 112457)\t0.3598845310068343\n",
      "  (0, 113227)\t0.4173543856320225\n",
      "  (0, 139027)\t0.12816130262177736\n",
      "  (0, 144880)\t0.1287186786175902\n",
      "  (0, 147236)\t0.34\n",
      "  (0, 147237)\t0.35\n",
      "  (0, 147238)\t0.38\n",
      "  :\t:\n",
      "  (282999, 6337)\t0.21646756339701811\n",
      "  (282999, 7494)\t0.20406212475772503\n",
      "  (282999, 8102)\t0.3545989664048081\n",
      "  (282999, 12528)\t0.12480327526089166\n",
      "  (282999, 28154)\t0.1831808485800094\n",
      "  (282999, 31813)\t0.1006305559348547\n",
      "  (282999, 44241)\t0.4436669792218002\n",
      "  (282999, 47083)\t0.21149340770798175\n",
      "  (282999, 63782)\t0.5779259966957989\n",
      "  (282999, 71740)\t0.17870686378139858\n",
      "  (282999, 71763)\t0.25002728423260484\n",
      "  (282999, 81720)\t0.5189321653702487\n",
      "  (282999, 93768)\t0.31997492807407835\n",
      "  (282999, 101772)\t0.26807307243943224\n",
      "  (282999, 105431)\t0.14726617176337603\n",
      "  (282999, 117859)\t0.6492773190094785\n",
      "  (282999, 145358)\t0.2615256912022116\n",
      "  (282999, 146344)\t0.21170316836610023\n",
      "  (282999, 147236)\t0.6\n",
      "  (282999, 147237)\t0.86\n",
      "  (282999, 147238)\t0.86\n",
      "  (282999, 147239)\t0.5\n",
      "  (282999, 147240)\t0.3333333333333333\n",
      "  (282999, 147241)\t0.3333333333333333\n",
      "  (282999, 147242)\t1.0\n"
     ]
    }
   ],
   "source": [
    "Xv1_train = vectorizer.transform(X_train['question1'].astype(str))\n",
    "Xv2_train = vectorizer.transform(X_train['question2'].astype(str))\n",
    "Xvc_train = sp.sparse.hstack([Xv1_train, Xv2_train,\n",
    "                              X_train[['tokenSortRatio_norm','tokenSetRatio_norm','wratio_norm',\n",
    "                                       'verb_diff','adj_diff','nn_diff','ne_diff']]], format='csr')\n",
    "\n",
    "print(Xv1_train.shape)\n",
    "print(Xv2_train.shape)\n",
    "zprint()\n",
    "\n",
    "print(Xvc_train.shape)\n",
    "print(Xvc_train)\n"
   ]
  },
  {
   "cell_type": "code",
   "execution_count": 186,
   "metadata": {
    "scrolled": true
   },
   "outputs": [
    {
     "name": "stdout",
     "output_type": "stream",
     "text": [
      "CPU times: user 5min 31s, sys: 3.13 s, total: 5min 34s\n",
      "Wall time: 2min 46s\n"
     ]
    },
    {
     "data": {
      "text/plain": [
       "RandomForestClassifier(bootstrap=True, class_weight=None, criterion='entropy',\n",
       "            max_depth=None, max_features=50, max_leaf_nodes=None,\n",
       "            min_impurity_decrease=0.0, min_impurity_split=None,\n",
       "            min_samples_leaf=1, min_samples_split=2,\n",
       "            min_weight_fraction_leaf=0.0, n_estimators=10, n_jobs=2,\n",
       "            oob_score=False, random_state=None, verbose=0,\n",
       "            warm_start=False)"
      ]
     },
     "execution_count": 186,
     "metadata": {},
     "output_type": "execute_result"
    }
   ],
   "source": [
    "%%time\n",
    "clf.fit(Xvc_train, y_train)\n"
   ]
  },
  {
   "cell_type": "code",
   "execution_count": 187,
   "metadata": {},
   "outputs": [],
   "source": [
    "y_pred_train = clf.predict(Xvc_train)\n"
   ]
  },
  {
   "cell_type": "code",
   "execution_count": 188,
   "metadata": {
    "scrolled": true
   },
   "outputs": [
    {
     "name": "stdout",
     "output_type": "stream",
     "text": [
      "binary\n",
      "0.9910459363957597\n",
      "0.9978902541462367\n",
      "0.9778147850388577\n",
      "********************************************************************************\n",
      "\n",
      "micro\n",
      "0.9910459363957597\n",
      "0.9910459363957597\n",
      "0.9910459363957597\n",
      "********************************************************************************\n",
      "\n",
      "macro\n",
      "0.9910459363957597\n",
      "0.992528269395589\n",
      "0.9883024047312194\n",
      "********************************************************************************\n",
      "\n",
      "weighted\n",
      "0.9910459363957597\n",
      "0.9911255893423736\n",
      "0.9910459363957597\n",
      "********************************************************************************\n",
      "\n"
     ]
    }
   ],
   "source": [
    "averages = ['binary','micro','macro','weighted']\n",
    "for average in averages:\n",
    "    accuracy = metrics.accuracy_score(y_train, y_pred_train)\n",
    "    precision = metrics.precision_score(y_train, y_pred_train, average=average)\n",
    "    recall = metrics.recall_score(y_train, y_pred_train, average=average)\n",
    "    print(average)\n",
    "    print(accuracy)\n",
    "    print(precision)\n",
    "    print(recall)\n",
    "    zprint()\n"
   ]
  },
  {
   "cell_type": "markdown",
   "metadata": {},
   "source": [
    "### test"
   ]
  },
  {
   "cell_type": "code",
   "execution_count": 189,
   "metadata": {
    "scrolled": true
   },
   "outputs": [
    {
     "name": "stdout",
     "output_type": "stream",
     "text": [
      "(121287, 73618)\n",
      "(121287, 73618)\n",
      "********************************************************************************\n",
      "\n",
      "(121287, 147243)\n",
      "  (0, 20612)\t0.7738951365248012\n",
      "  (0, 21121)\t0.26579020909074136\n",
      "  (0, 24488)\t0.5223955627357192\n",
      "  (0, 71451)\t0.2398848858281623\n",
      "  (0, 94230)\t0.7954530386748473\n",
      "  (0, 94739)\t0.2731941570542195\n",
      "  (0, 103753)\t0.4814810784008943\n",
      "  (0, 145069)\t0.24656720576000846\n",
      "  (0, 147236)\t0.85\n",
      "  (0, 147237)\t0.88\n",
      "  (0, 147238)\t0.85\n",
      "  (0, 147239)\t0.5\n",
      "  (1, 9644)\t0.17900245285019517\n",
      "  (1, 13456)\t0.39628691622501233\n",
      "  (1, 18332)\t0.6484643371820412\n",
      "  (1, 32154)\t0.41078033236117295\n",
      "  (1, 33178)\t0.12224347784925492\n",
      "  (1, 34829)\t0.10192207068425796\n",
      "  (1, 58946)\t0.3527815131996224\n",
      "  (1, 65409)\t0.09481473941388317\n",
      "  (1, 71323)\t0.2507830070319717\n",
      "  (1, 83262)\t0.18116222112049815\n",
      "  (1, 87074)\t0.4010683473952057\n",
      "  (1, 91950)\t0.6562884349950522\n",
      "  (1, 105772)\t0.41573663499150976\n",
      "  :\t:\n",
      "  (121286, 45416)\t0.20677586560778147\n",
      "  (121286, 47375)\t0.11059090666406553\n",
      "  (121286, 50958)\t0.23076751195059492\n",
      "  (121286, 51438)\t0.2087678200814569\n",
      "  (121286, 54929)\t0.312242069946038\n",
      "  (121286, 55940)\t0.41902195721805435\n",
      "  (121286, 59664)\t0.11567656535301453\n",
      "  (121286, 65409)\t0.0541013693105474\n",
      "  (121286, 65576)\t0.14624119036564048\n",
      "  (121286, 66291)\t0.20160510667500803\n",
      "  (121286, 71562)\t0.12644376064832588\n",
      "  (121286, 80444)\t0.13688433139248965\n",
      "  (121286, 100112)\t0.15574573241285358\n",
      "  (121286, 104457)\t0.7496056278590212\n",
      "  (121286, 105431)\t0.1164537434734932\n",
      "  (121286, 114456)\t0.28008423643700187\n",
      "  (121286, 123042)\t0.2388358857439891\n",
      "  (121286, 144195)\t0.4960303570830049\n",
      "  (121286, 147236)\t0.24\n",
      "  (121286, 147237)\t0.17\n",
      "  (121286, 147238)\t0.86\n",
      "  (121286, 147239)\t1.0\n",
      "  (121286, 147240)\t0.75\n",
      "  (121286, 147241)\t1.0\n",
      "  (121286, 147242)\t1.0\n"
     ]
    }
   ],
   "source": [
    "Xv1_test = vectorizer.transform(X_test['question1'].astype(str))\n",
    "Xv2_test = vectorizer.transform(X_test['question2'].astype(str))\n",
    "Xvc_test = sp.sparse.hstack([Xv1_test, Xv2_test,\n",
    "                             X_test[['tokenSortRatio_norm','tokenSetRatio_norm','wratio_norm',\n",
    "                                     'verb_diff','adj_diff','nn_diff','ne_diff']]], format='csr')\n",
    "\n",
    "print(Xv1_test.shape)\n",
    "print(Xv2_test.shape)\n",
    "zprint()\n",
    "\n",
    "print(Xvc_test.shape)\n",
    "print(Xvc_test)\n"
   ]
  },
  {
   "cell_type": "code",
   "execution_count": 190,
   "metadata": {},
   "outputs": [],
   "source": [
    "y_pred = clf.predict(Xvc_test)\n"
   ]
  },
  {
   "cell_type": "code",
   "execution_count": 191,
   "metadata": {
    "scrolled": true
   },
   "outputs": [
    {
     "name": "stdout",
     "output_type": "stream",
     "text": [
      "binary\n",
      "0.8062282025278884\n",
      "0.8074622120747955\n",
      "0.6239308604479779\n",
      "********************************************************************************\n",
      "\n",
      "micro\n",
      "0.8062282025278884\n",
      "0.8062282025278884\n",
      "0.8062282025278884\n",
      "********************************************************************************\n",
      "\n",
      "macro\n",
      "0.8062282025278884\n",
      "0.8065989278309976\n",
      "0.7684274995500724\n",
      "********************************************************************************\n",
      "\n",
      "weighted\n",
      "0.8062282025278884\n",
      "0.8063730903894626\n",
      "0.8062282025278884\n",
      "********************************************************************************\n",
      "\n"
     ]
    }
   ],
   "source": [
    "averages = ['binary','micro','macro','weighted']\n",
    "for average in averages:\n",
    "    accuracy = metrics.accuracy_score(y_test, y_pred)\n",
    "    precision = metrics.precision_score(y_test, y_pred, average=average)\n",
    "    recall = metrics.recall_score(y_test, y_pred, average=average)\n",
    "    print(average)\n",
    "    print(accuracy)\n",
    "    print(precision)\n",
    "    print(recall)\n",
    "    zprint()\n"
   ]
  },
  {
   "cell_type": "markdown",
   "metadata": {},
   "source": [
    "### Increase max_features to 100 in Random Forest model"
   ]
  },
  {
   "cell_type": "code",
   "execution_count": 194,
   "metadata": {},
   "outputs": [],
   "source": [
    "clf_2 = rfClf(n_estimators=10,\n",
    "            criterion='entropy', \n",
    "            max_depth=None, \n",
    "            min_samples_split=2, \n",
    "            min_samples_leaf=1, \n",
    "            min_weight_fraction_leaf=0.0,\n",
    "            max_features=100,\n",
    "            max_leaf_nodes=None,\n",
    "            min_impurity_decrease=0.0,\n",
    "            bootstrap=True,\n",
    "            n_jobs=2,\n",
    "            warm_start=False,\n",
    "            class_weight=None,\n",
    "           )\n"
   ]
  },
  {
   "cell_type": "code",
   "execution_count": 195,
   "metadata": {},
   "outputs": [
    {
     "name": "stdout",
     "output_type": "stream",
     "text": [
      "CPU times: user 5min 5s, sys: 3.11 s, total: 5min 8s\n",
      "Wall time: 2min 32s\n"
     ]
    },
    {
     "data": {
      "text/plain": [
       "RandomForestClassifier(bootstrap=True, class_weight=None, criterion='entropy',\n",
       "            max_depth=None, max_features=100, max_leaf_nodes=None,\n",
       "            min_impurity_decrease=0.0, min_impurity_split=None,\n",
       "            min_samples_leaf=1, min_samples_split=2,\n",
       "            min_weight_fraction_leaf=0.0, n_estimators=10, n_jobs=2,\n",
       "            oob_score=False, random_state=None, verbose=0,\n",
       "            warm_start=False)"
      ]
     },
     "execution_count": 195,
     "metadata": {},
     "output_type": "execute_result"
    }
   ],
   "source": [
    "%%time\n",
    "clf_2.fit(Xvc_train, y_train)\n"
   ]
  },
  {
   "cell_type": "code",
   "execution_count": 198,
   "metadata": {},
   "outputs": [],
   "source": [
    "y_pred_train = clf_2.predict(Xvc_train)\n"
   ]
  },
  {
   "cell_type": "code",
   "execution_count": 199,
   "metadata": {
    "scrolled": true
   },
   "outputs": [
    {
     "name": "stdout",
     "output_type": "stream",
     "text": [
      "binary\n",
      "0.9910671378091873\n",
      "0.9977153792079981\n",
      "0.9780444852800428\n",
      "********************************************************************************\n",
      "\n",
      "micro\n",
      "0.9910671378091873\n",
      "0.9910671378091873\n",
      "0.9910671378091873\n",
      "********************************************************************************\n",
      "\n",
      "macro\n",
      "0.9910671378091873\n",
      "0.9925057934494713\n",
      "0.9883668392027944\n",
      "********************************************************************************\n",
      "\n",
      "weighted\n",
      "0.9910671378091873\n",
      "0.9911429805417848\n",
      "0.9910671378091873\n",
      "********************************************************************************\n",
      "\n"
     ]
    }
   ],
   "source": [
    "averages = ['binary','micro','macro','weighted']\n",
    "for average in averages:\n",
    "    accuracy = metrics.accuracy_score(y_train, y_pred_train)\n",
    "    precision = metrics.precision_score(y_train, y_pred_train, average=average)\n",
    "    recall = metrics.recall_score(y_train, y_pred_train, average=average)\n",
    "    print(average)\n",
    "    print(accuracy)\n",
    "    print(precision)\n",
    "    print(recall)\n",
    "    zprint()\n"
   ]
  },
  {
   "cell_type": "code",
   "execution_count": 200,
   "metadata": {},
   "outputs": [],
   "source": [
    "y_pred = clf_2.predict(Xvc_test)\n"
   ]
  },
  {
   "cell_type": "code",
   "execution_count": 201,
   "metadata": {
    "scrolled": true
   },
   "outputs": [
    {
     "name": "stdout",
     "output_type": "stream",
     "text": [
      "binary\n",
      "0.8041422411305416\n",
      "0.8001541887956142\n",
      "0.6258067397664083\n",
      "********************************************************************************\n",
      "\n",
      "micro\n",
      "0.8041422411305416\n",
      "0.8041422411305416\n",
      "0.8041422411305416\n",
      "********************************************************************************\n",
      "\n",
      "macro\n",
      "0.8041422411305416\n",
      "0.802957752834021\n",
      "0.7671630551448761\n",
      "********************************************************************************\n",
      "\n",
      "weighted\n",
      "0.8041422411305416\n",
      "0.8036911726018001\n",
      "0.8041422411305416\n",
      "********************************************************************************\n",
      "\n"
     ]
    }
   ],
   "source": [
    "averages = ['binary','micro','macro','weighted']\n",
    "for average in averages:\n",
    "    accuracy = metrics.accuracy_score(y_test, y_pred)\n",
    "    precision = metrics.precision_score(y_test, y_pred, average=average)\n",
    "    recall = metrics.recall_score(y_test, y_pred, average=average)\n",
    "    print(average)\n",
    "    print(accuracy)\n",
    "    print(precision)\n",
    "    print(recall)\n",
    "    zprint()\n"
   ]
  },
  {
   "cell_type": "code",
   "execution_count": null,
   "metadata": {},
   "outputs": [],
   "source": []
  }
 ],
 "metadata": {
  "kernelspec": {
   "display_name": "Python 3",
   "language": "python",
   "name": "python3"
  },
  "language_info": {
   "codemirror_mode": {
    "name": "ipython",
    "version": 3
   },
   "file_extension": ".py",
   "mimetype": "text/x-python",
   "name": "python",
   "nbconvert_exporter": "python",
   "pygments_lexer": "ipython3",
   "version": "3.6.8"
  }
 },
 "nbformat": 4,
 "nbformat_minor": 2
}
